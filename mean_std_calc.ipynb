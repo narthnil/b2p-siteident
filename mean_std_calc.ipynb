{
 "cells": [
  {
   "cell_type": "code",
   "execution_count": 2,
   "id": "91895060",
   "metadata": {},
   "outputs": [],
   "source": [
    "%load_ext autoreload\n",
    "%autoreload 2"
   ]
  },
  {
   "cell_type": "code",
   "execution_count": 4,
   "id": "7a343421",
   "metadata": {},
   "outputs": [],
   "source": [
    "import numpy as np\n",
    "import matplotlib.pyplot as plt\n",
    "from tqdm import tqdm\n",
    "import torch\n",
    "\n",
    "import geopandas as gpd\n",
    "import json\n",
    "import rasterio\n",
    "\n",
    "from rasterio import mask"
   ]
  },
  {
   "cell_type": "code",
   "execution_count": 3,
   "id": "2c25c952",
   "metadata": {},
   "outputs": [],
   "source": [
    "from src.dataloader_epsg_4326 import BridgeDataset\n",
    "\n",
    "ds=BridgeDataset(1200, use_rnd_pos=True, transform=False)"
   ]
  },
  {
   "cell_type": "code",
   "execution_count": 10,
   "id": "aff6251d",
   "metadata": {
    "scrolled": true
   },
   "outputs": [
    {
     "data": {
      "text/plain": [
       "torch.Size([7, 48, 48])"
      ]
     },
     "execution_count": 10,
     "metadata": {},
     "output_type": "execute_result"
    }
   ],
   "source": [
    "img, _ = ds[1]\n",
    "img.shape"
   ]
  },
  {
   "cell_type": "markdown",
   "id": "f8f7caea",
   "metadata": {},
   "source": [
    "### Bad Approach"
   ]
  },
  {
   "cell_type": "code",
   "execution_count": 18,
   "id": "37707c72",
   "metadata": {},
   "outputs": [
    {
     "name": "stderr",
     "output_type": "stream",
     "text": [
      "100%|██████████| 1684/1684 [00:02<00:00, 578.99it/s]\n"
     ]
    }
   ],
   "source": [
    "NUM_CHANNELS=7\n",
    "\n",
    "data={i:[] for i in range(NUM_CHANNELS)}\n",
    "\n",
    "for img, _ in tqdm(ds):\n",
    "    for channel in range(NUM_CHANNELS):\n",
    "        data[channel].append(img[channel].flatten())\n",
    "\n",
    "for channel, values in data.items():\n",
    "    data[channel]=torch.cat(values)\n",
    "    "
   ]
  },
  {
   "cell_type": "code",
   "execution_count": 32,
   "id": "2d048fed",
   "metadata": {},
   "outputs": [
    {
     "name": "stdout",
     "output_type": "stream",
     "text": [
      "Channel-0 mean: 59002.390625\t\tchannel-0 standard deviation: 49175.33203125\n",
      "Channel-1 mean: 236.64964294433594\t\tchannel-1 standard deviation: 15.285372734069824\n",
      "Channel-2 mean: 234.1954345703125\t\tchannel-2 standard deviation: 14.796076774597168\n",
      "Channel-3 mean: 228.14276123046875\t\tchannel-3 standard deviation: 15.021673202514648\n",
      "Channel-4 mean: 206.40219116210938\t\tchannel-4 standard deviation: 18.009830474853516\n",
      "Channel-5 mean: 214.48724365234375\t\tchannel-5 standard deviation: 29.860050201416016\n",
      "Channel-6 mean: 134.92025756835938\t\tchannel-6 standard deviation: 824.8440551757812\n"
     ]
    }
   ],
   "source": [
    "means=[]\n",
    "stds=[]\n",
    "for channel in range(NUM_CHANNELS):\n",
    "    print(\"Channel-{ch} mean: {m}\\t\\tchannel-{ch} standard deviation: {std}\".format(\n",
    "                                ch=channel,\n",
    "                                m=torch.mean(data[channel]),\n",
    "                                std=torch.std(data[channel], unbiased=True)\n",
    "                            ))\n",
    "    means.append(torch.mean(data[channel]).item())\n",
    "    stds.append(torch.std(data[channel], unbiased=True).item())"
   ]
  },
  {
   "cell_type": "code",
   "execution_count": 33,
   "id": "54dd31b3",
   "metadata": {},
   "outputs": [
    {
     "data": {
      "text/plain": [
       "(59002.390625,\n",
       " 236.64964294433594,\n",
       " 234.1954345703125,\n",
       " 228.14276123046875,\n",
       " 206.40219116210938,\n",
       " 214.48724365234375,\n",
       " 134.92025756835938)"
      ]
     },
     "execution_count": 33,
     "metadata": {},
     "output_type": "execute_result"
    }
   ],
   "source": [
    "tuple(means)"
   ]
  },
  {
   "cell_type": "code",
   "execution_count": 34,
   "id": "8092d585",
   "metadata": {},
   "outputs": [
    {
     "data": {
      "text/plain": [
       "(49175.33203125,\n",
       " 15.285372734069824,\n",
       " 14.796076774597168,\n",
       " 15.021673202514648,\n",
       " 18.009830474853516,\n",
       " 29.860050201416016,\n",
       " 824.8440551757812)"
      ]
     },
     "execution_count": 34,
     "metadata": {},
     "output_type": "execute_result"
    }
   ],
   "source": [
    "tuple(stds)"
   ]
  },
  {
   "cell_type": "markdown",
   "id": "efa78a03",
   "metadata": {},
   "source": [
    "### Load full images to find stats\n",
    "\n"
   ]
  },
  {
   "cell_type": "code",
   "execution_count": 27,
   "id": "c5b9c03f",
   "metadata": {},
   "outputs": [],
   "source": [
    "def  get_data_stats(data_desc, path, read_channel, exclude_val=None):\n",
    "    data=rasterio.open(path)\n",
    "    data=data.read(read_channel).flatten()\n",
    "    if exclude_val is not None:\n",
    "        data=data[data!=exclude_val]\n",
    "    mean=data.mean()\n",
    "    std=data.std()\n",
    "    print(\"Data: {} \\t channel: {}\".format(data_desc, read_channel))\n",
    "    print(\"Mean: {} \\t Standard Deviation: {}\\n\\n\".format(mean, std))"
   ]
  },
  {
   "cell_type": "code",
   "execution_count": 28,
   "id": "4dcacf84",
   "metadata": {},
   "outputs": [
    {
     "name": "stdout",
     "output_type": "stream",
     "text": [
      "Data: population_Rwanda \t channel: 1\n",
      "Mean: 15.15371036529541 \t Standard Deviation: 17.416013717651367\n",
      "\n",
      "\n",
      "Data: population_Uganda \t channel: 1\n",
      "Mean: 11.360522270202637 \t Standard Deviation: 15.073326110839844\n",
      "\n",
      "\n"
     ]
    }
   ],
   "source": [
    "get_data_stats(\n",
    "        data_desc = \"population_Rwanda\",\n",
    "        path = \"data/population/Rwanda_population_data_2020_UNadj_constrained.tif\",\n",
    "        read_channel = 1,\n",
    "        exclude_val = -99999\n",
    "    )\n",
    "\n",
    "get_data_stats(\n",
    "        data_desc = \"population_Uganda\",\n",
    "        path = \"data/population/Uganda_population_data_2020_UNadj_constrained.tif\",\n",
    "        read_channel = 1,\n",
    "        exclude_val = -99999\n",
    "    )"
   ]
  },
  {
   "cell_type": "code",
   "execution_count": 29,
   "id": "67f1b4ca",
   "metadata": {},
   "outputs": [
    {
     "name": "stdout",
     "output_type": "stream",
     "text": [
      "Data: OSM Rwanda \t channel: 1\n",
      "Mean: 231.70203462324238 \t Standard Deviation: 21.524828241358563\n",
      "\n",
      "\n",
      "Data: OSM Rwanda \t channel: 2\n",
      "Mean: 233.31144228855203 \t Standard Deviation: 14.25528330439599\n",
      "\n",
      "\n",
      "Data: OSM Rwanda \t channel: 3\n",
      "Mean: 223.8425571862376 \t Standard Deviation: 20.398400049322305\n",
      "\n",
      "\n",
      "Data: OSM Uganda \t channel: 1\n",
      "Mean: 219.18073675126539 \t Standard Deviation: 32.530411532389145\n",
      "\n",
      "\n",
      "Data: OSM Uganda \t channel: 2\n",
      "Mean: 227.8921034703596 \t Standard Deviation: 16.082030009173867\n",
      "\n",
      "\n",
      "Data: OSM Uganda \t channel: 3\n",
      "Mean: 209.27908261428954 \t Standard Deviation: 35.679358964571314\n",
      "\n",
      "\n"
     ]
    }
   ],
   "source": [
    "for i in [1,2,3]:\n",
    "    get_data_stats(\n",
    "            data_desc = \"OSM Rwanda\",\n",
    "            path = \"data/osm/imgs/rwanda_osm_nolab_1-50000_4326.tiff\",\n",
    "            read_channel = i\n",
    "    )\n",
    "    \n",
    "for i in [1,2,3]:\n",
    "    get_data_stats(\n",
    "            data_desc = \"OSM Uganda\",\n",
    "            path = \"data/osm/imgs/uganda_train_osm_nolab_1-50000_4326.tiff\",\n",
    "            read_channel = i\n",
    "    )"
   ]
  },
  {
   "cell_type": "code",
   "execution_count": 31,
   "id": "c8a3336e",
   "metadata": {},
   "outputs": [
    {
     "name": "stdout",
     "output_type": "stream",
     "text": [
      "Data: Elevation_Rwanda \t channel: 2\n",
      "Mean: 207.0415114662796 \t Standard Deviation: 9.887098411667573\n",
      "\n",
      "\n",
      "Data: Elevation_Uganda \t channel: 2\n",
      "Mean: 222.35360271819636 \t Standard Deviation: 8.056689857889882\n",
      "\n",
      "\n"
     ]
    }
   ],
   "source": [
    "get_data_stats(\n",
    "        data_desc = \"Elevation_Rwanda\",\n",
    "        path = \"data/slope_elevation/elevation_rwanda.tif\",\n",
    "        read_channel = 2,\n",
    "        exclude_val = 0\n",
    "    )\n",
    "\n",
    "get_data_stats(\n",
    "        data_desc = \"Elevation_Uganda\",\n",
    "        path = \"data/slope_elevation/elevation_uganda.tif\",\n",
    "        read_channel = 2,\n",
    "        exclude_val = 0\n",
    "    )"
   ]
  },
  {
   "cell_type": "code",
   "execution_count": 32,
   "id": "d3734dab",
   "metadata": {},
   "outputs": [
    {
     "name": "stdout",
     "output_type": "stream",
     "text": [
      "Data: Slope_Rwanda \t channel: 2\n",
      "Mean: 221.30385049308214 \t Standard Deviation: 25.86962156126275\n",
      "\n",
      "\n",
      "Data: Slope_Uganda \t channel: 2\n",
      "Mean: 243.40193346988596 \t Standard Deviation: 15.516082278007305\n",
      "\n",
      "\n"
     ]
    }
   ],
   "source": [
    "get_data_stats(\n",
    "        data_desc = \"Slope_Rwanda\",\n",
    "        path = \"data/slope_elevation/slope_rwanda.tif\",\n",
    "        read_channel = 2,\n",
    "        exclude_val = 0\n",
    "    )\n",
    "\n",
    "get_data_stats(\n",
    "        data_desc = \"Slope_Uganda\",\n",
    "        path = \"data/slope_elevation/slope_uganda.tif\",\n",
    "        read_channel = 2,\n",
    "        exclude_val = 0\n",
    "    )"
   ]
  },
  {
   "cell_type": "code",
   "execution_count": 24,
   "id": "5155bb62",
   "metadata": {},
   "outputs": [
    {
     "name": "stdout",
     "output_type": "stream",
     "text": [
      "Data: roads_Rwanda \t channel: 1\n",
      "Mean: 0.1574539505484869 \t Standard Deviation: 0.9817562848256564\n",
      "\n",
      "\n",
      "Data: roads_Uganda \t channel: 1\n",
      "Mean: 0.08281665629929377 \t Standard Deviation: 0.7271337974582561\n",
      "\n",
      "\n"
     ]
    }
   ],
   "source": [
    "get_data_stats(\n",
    "        data_desc = \"roads_Rwanda\",\n",
    "        path = \"data/osm/roads/rwanda-osm-roads.tif\",\n",
    "        read_channel = 1,\n",
    "        exclude_val = None\n",
    "    )\n",
    "\n",
    "get_data_stats(\n",
    "        data_desc = \"roads_Uganda\",\n",
    "        path = \"data/osm/roads/uganda-osm-roads.tif\",\n",
    "        read_channel = 1,\n",
    "        exclude_val = None\n",
    "    )"
   ]
  },
  {
   "cell_type": "code",
   "execution_count": 25,
   "id": "a1ec3b73",
   "metadata": {},
   "outputs": [
    {
     "name": "stdout",
     "output_type": "stream",
     "text": [
      "Data: waterways_Rwanda \t channel: 1\n",
      "Mean: 0.016318895533805403 \t Standard Deviation: 0.2068613878439112\n",
      "\n",
      "\n",
      "Data: waterways_Uganda \t channel: 1\n",
      "Mean: 0.003993281769442087 \t Standard Deviation: 0.10063702403324558\n",
      "\n",
      "\n"
     ]
    }
   ],
   "source": [
    "get_data_stats(\n",
    "        data_desc = \"waterways_Rwanda\",\n",
    "        path = \"data/osm/waterways/rwanda-osm-waterways.tif\",\n",
    "        read_channel = 1,\n",
    "        exclude_val = None\n",
    "    )\n",
    "\n",
    "get_data_stats(\n",
    "        data_desc = \"waterways_Uganda\",\n",
    "        path = \"data/osm/waterways/uganda-osm-waterways.tif\",\n",
    "        read_channel = 1,\n",
    "        exclude_val = None\n",
    "    )"
   ]
  }
 ],
 "metadata": {
  "kernelspec": {
   "display_name": "Python 3",
   "language": "python",
   "name": "python3"
  },
  "language_info": {
   "codemirror_mode": {
    "name": "ipython",
    "version": 3
   },
   "file_extension": ".py",
   "mimetype": "text/x-python",
   "name": "python",
   "nbconvert_exporter": "python",
   "pygments_lexer": "ipython3",
   "version": "3.7.11"
  }
 },
 "nbformat": 4,
 "nbformat_minor": 5
}
