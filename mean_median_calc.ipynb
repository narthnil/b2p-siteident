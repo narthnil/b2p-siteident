{
 "cells": [
  {
   "cell_type": "code",
   "execution_count": 2,
   "id": "91895060",
   "metadata": {},
   "outputs": [],
   "source": [
    "%load_ext autoreload\n",
    "%autoreload 2"
   ]
  },
  {
   "cell_type": "code",
   "execution_count": 3,
   "id": "2c25c952",
   "metadata": {},
   "outputs": [],
   "source": [
    "import numpy as np\n",
    "import matplotlib.pyplot as plt\n",
    "from tqdm import tqdm\n",
    "\n",
    "import torch\n",
    "\n",
    "from src.dataloader_epsg_4326 import BridgeDataset\n",
    "\n",
    "ds=BridgeDataset(1200, use_rnd_pos=True, transform=False)"
   ]
  },
  {
   "cell_type": "code",
   "execution_count": 10,
   "id": "aff6251d",
   "metadata": {
    "scrolled": true
   },
   "outputs": [
    {
     "data": {
      "text/plain": [
       "torch.Size([7, 48, 48])"
      ]
     },
     "execution_count": 10,
     "metadata": {},
     "output_type": "execute_result"
    }
   ],
   "source": [
    "img, _ = ds[1]\n",
    "img.shape"
   ]
  },
  {
   "cell_type": "code",
   "execution_count": 18,
   "id": "37707c72",
   "metadata": {},
   "outputs": [
    {
     "name": "stderr",
     "output_type": "stream",
     "text": [
      "100%|██████████| 1684/1684 [00:02<00:00, 578.99it/s]\n"
     ]
    }
   ],
   "source": [
    "NUM_CHANNELS=7\n",
    "\n",
    "data={i:[] for i in range(NUM_CHANNELS)}\n",
    "\n",
    "for img, _ in tqdm(ds):\n",
    "    for channel in range(NUM_CHANNELS):\n",
    "        data[channel].append(img[channel].flatten())\n",
    "\n",
    "for channel, values in data.items():\n",
    "    data[channel]=torch.cat(values)\n",
    "    "
   ]
  },
  {
   "cell_type": "code",
   "execution_count": 32,
   "id": "2d048fed",
   "metadata": {},
   "outputs": [
    {
     "name": "stdout",
     "output_type": "stream",
     "text": [
      "Channel-0 mean: 59002.390625\t\tchannel-0 standard deviation: 49175.33203125\n",
      "Channel-1 mean: 236.64964294433594\t\tchannel-1 standard deviation: 15.285372734069824\n",
      "Channel-2 mean: 234.1954345703125\t\tchannel-2 standard deviation: 14.796076774597168\n",
      "Channel-3 mean: 228.14276123046875\t\tchannel-3 standard deviation: 15.021673202514648\n",
      "Channel-4 mean: 206.40219116210938\t\tchannel-4 standard deviation: 18.009830474853516\n",
      "Channel-5 mean: 214.48724365234375\t\tchannel-5 standard deviation: 29.860050201416016\n",
      "Channel-6 mean: 134.92025756835938\t\tchannel-6 standard deviation: 824.8440551757812\n"
     ]
    }
   ],
   "source": [
    "means=[]\n",
    "stds=[]\n",
    "for channel in range(NUM_CHANNELS):\n",
    "    print(\"Channel-{ch} mean: {m}\\t\\tchannel-{ch} standard deviation: {std}\".format(\n",
    "                                ch=channel,\n",
    "                                m=torch.mean(data[channel]),\n",
    "                                std=torch.std(data[channel], unbiased=True)\n",
    "                            ))\n",
    "    means.append(torch.mean(data[channel]).item())\n",
    "    stds.append(torch.std(data[channel], unbiased=True).item())"
   ]
  },
  {
   "cell_type": "code",
   "execution_count": 33,
   "id": "54dd31b3",
   "metadata": {},
   "outputs": [
    {
     "data": {
      "text/plain": [
       "(59002.390625,\n",
       " 236.64964294433594,\n",
       " 234.1954345703125,\n",
       " 228.14276123046875,\n",
       " 206.40219116210938,\n",
       " 214.48724365234375,\n",
       " 134.92025756835938)"
      ]
     },
     "execution_count": 33,
     "metadata": {},
     "output_type": "execute_result"
    }
   ],
   "source": [
    "tuple(means)"
   ]
  },
  {
   "cell_type": "code",
   "execution_count": 34,
   "id": "8092d585",
   "metadata": {},
   "outputs": [
    {
     "data": {
      "text/plain": [
       "(49175.33203125,\n",
       " 15.285372734069824,\n",
       " 14.796076774597168,\n",
       " 15.021673202514648,\n",
       " 18.009830474853516,\n",
       " 29.860050201416016,\n",
       " 824.8440551757812)"
      ]
     },
     "execution_count": 34,
     "metadata": {},
     "output_type": "execute_result"
    }
   ],
   "source": [
    "tuple(stds)"
   ]
  },
  {
   "cell_type": "code",
   "execution_count": null,
   "id": "7db91359",
   "metadata": {},
   "outputs": [],
   "source": []
  }
 ],
 "metadata": {
  "kernelspec": {
   "display_name": "Python 3",
   "language": "python",
   "name": "python3"
  },
  "language_info": {
   "codemirror_mode": {
    "name": "ipython",
    "version": 3
   },
   "file_extension": ".py",
   "mimetype": "text/x-python",
   "name": "python",
   "nbconvert_exporter": "python",
   "pygments_lexer": "ipython3",
   "version": "3.7.11"
  }
 },
 "nbformat": 4,
 "nbformat_minor": 5
}
