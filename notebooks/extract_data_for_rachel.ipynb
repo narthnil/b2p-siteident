{
 "cells": [
  {
   "cell_type": "code",
   "execution_count": 1,
   "id": "0d74b344",
   "metadata": {},
   "outputs": [],
   "source": [
    "import numpy as np\n",
    "from src.data.bridge_site import get_dataloaders"
   ]
  },
  {
   "cell_type": "code",
   "execution_count": 2,
   "id": "17eafef9",
   "metadata": {},
   "outputs": [],
   "source": [
    "data_order_large = ['population', 'osm_img', 'elevation', 'slope', 'roads', 'waterways', 'admin_bounds_qgis']\n",
    "data_order_small = ['osm_img', 'slope', 'waterways', 'admin_bounds_qgis']"
   ]
  },
  {
   "cell_type": "code",
   "execution_count": 3,
   "id": "76099bac",
   "metadata": {},
   "outputs": [
    {
     "name": "stdout",
     "output_type": "stream",
     "text": [
      "train sampler: 1630 samples in total (815 pos, 815 neg) ([Rwanda] 815 pos 815 neg [Uganda] 0 pos 0 neg)\n",
      "val sampler: 484 samples in total (242 pos, 242 neg) ([Rwanda] 242 pos 242 neg [Uganda] 0 pos 0 neg)\n",
      "test sampler: 1240 samples in total (620 pos, 620 neg) ([Rwanda] 370 pos 310 neg [Uganda] 250 pos 310 neg)\n",
      "test sampler: 740 samples in total (370 pos, 370 neg) ([Rwanda] 370 pos 370 neg [Uganda] 0 pos 0 neg)\n",
      "test sampler: 500 samples in total (250 pos, 250 neg) ([Rwanda] 0 pos 0 neg [Uganda] 250 pos 250 neg)\n"
     ]
    }
   ],
   "source": [
    "dataloaders = get_dataloaders(batch_size=64, tile_size=300, data_version=\"v1\", data_order=data_order_large, \n",
    "                              transform=False, test_batch_size=64, use_augment=False, \n",
    "                              use_rnd_center_point=False, use_several_test_samples=False)"
   ]
  },
  {
   "cell_type": "code",
   "execution_count": 8,
   "id": "860b5885",
   "metadata": {
    "scrolled": true
   },
   "outputs": [
    {
     "name": "stdout",
     "output_type": "stream",
     "text": [
      "train sampler: 1630 samples in total (815 pos, 815 neg) ([Rwanda] 815 pos 815 neg [Uganda] 0 pos 0 neg)\n",
      "val sampler: 484 samples in total (242 pos, 242 neg) ([Rwanda] 242 pos 242 neg [Uganda] 0 pos 0 neg)\n",
      "test sampler: 1240 samples in total (620 pos, 620 neg) ([Rwanda] 370 pos 310 neg [Uganda] 250 pos 310 neg)\n",
      "test sampler: 740 samples in total (370 pos, 370 neg) ([Rwanda] 370 pos 370 neg [Uganda] 0 pos 0 neg)\n",
      "test sampler: 500 samples in total (250 pos, 250 neg) ([Rwanda] 0 pos 0 neg [Uganda] 250 pos 250 neg)\n",
      "train sampler: 1630 samples in total (815 pos, 815 neg) ([Rwanda] 815 pos 815 neg [Uganda] 0 pos 0 neg)\n",
      "val sampler: 484 samples in total (242 pos, 242 neg) ([Rwanda] 242 pos 242 neg [Uganda] 0 pos 0 neg)\n",
      "test sampler: 1240 samples in total (620 pos, 620 neg) ([Rwanda] 370 pos 310 neg [Uganda] 250 pos 310 neg)\n",
      "test sampler: 740 samples in total (370 pos, 370 neg) ([Rwanda] 370 pos 370 neg [Uganda] 0 pos 0 neg)\n",
      "test sampler: 500 samples in total (250 pos, 250 neg) ([Rwanda] 0 pos 0 neg [Uganda] 250 pos 250 neg)\n",
      "train sampler: 1630 samples in total (815 pos, 815 neg) ([Rwanda] 815 pos 815 neg [Uganda] 0 pos 0 neg)\n",
      "val sampler: 484 samples in total (242 pos, 242 neg) ([Rwanda] 242 pos 242 neg [Uganda] 0 pos 0 neg)\n",
      "test sampler: 1240 samples in total (620 pos, 620 neg) ([Rwanda] 370 pos 310 neg [Uganda] 250 pos 310 neg)\n",
      "test sampler: 740 samples in total (370 pos, 370 neg) ([Rwanda] 370 pos 370 neg [Uganda] 0 pos 0 neg)\n",
      "test sampler: 500 samples in total (250 pos, 250 neg) ([Rwanda] 0 pos 0 neg [Uganda] 250 pos 250 neg)\n",
      "train sampler: 1964 samples in total (982 pos, 982 neg) ([Rwanda] 815 pos 654 neg [Uganda] 167 pos 328 neg)\n",
      "val sampler: 522 samples in total (261 pos, 261 neg) ([Rwanda] 242 pos 130 neg [Uganda] 19 pos 131 neg)\n",
      "test sampler: 868 samples in total (434 pos, 434 neg) ([Rwanda] 370 pos 217 neg [Uganda] 64 pos 217 neg)\n",
      "test sampler: 740 samples in total (370 pos, 370 neg) ([Rwanda] 370 pos 370 neg [Uganda] 0 pos 0 neg)\n",
      "test sampler: 128 samples in total (64 pos, 64 neg) ([Rwanda] 0 pos 0 neg [Uganda] 64 pos 64 neg)\n",
      "train sampler: 1964 samples in total (982 pos, 982 neg) ([Rwanda] 815 pos 654 neg [Uganda] 167 pos 328 neg)\n",
      "val sampler: 522 samples in total (261 pos, 261 neg) ([Rwanda] 242 pos 130 neg [Uganda] 19 pos 131 neg)\n",
      "test sampler: 868 samples in total (434 pos, 434 neg) ([Rwanda] 370 pos 217 neg [Uganda] 64 pos 217 neg)\n",
      "test sampler: 740 samples in total (370 pos, 370 neg) ([Rwanda] 370 pos 370 neg [Uganda] 0 pos 0 neg)\n",
      "test sampler: 128 samples in total (64 pos, 64 neg) ([Rwanda] 0 pos 0 neg [Uganda] 64 pos 64 neg)\n",
      "train sampler: 1964 samples in total (982 pos, 982 neg) ([Rwanda] 815 pos 654 neg [Uganda] 167 pos 328 neg)\n",
      "val sampler: 522 samples in total (261 pos, 261 neg) ([Rwanda] 242 pos 130 neg [Uganda] 19 pos 131 neg)\n",
      "test sampler: 868 samples in total (434 pos, 434 neg) ([Rwanda] 370 pos 217 neg [Uganda] 64 pos 217 neg)\n",
      "test sampler: 740 samples in total (370 pos, 370 neg) ([Rwanda] 370 pos 370 neg [Uganda] 0 pos 0 neg)\n",
      "test sampler: 128 samples in total (64 pos, 64 neg) ([Rwanda] 0 pos 0 neg [Uganda] 64 pos 64 neg)\n",
      "train sampler: 1630 samples in total (815 pos, 815 neg) ([Rwanda] 815 pos 815 neg [Uganda] 0 pos 0 neg)\n",
      "val sampler: 484 samples in total (242 pos, 242 neg) ([Rwanda] 242 pos 242 neg [Uganda] 0 pos 0 neg)\n",
      "test sampler: 1240 samples in total (620 pos, 620 neg) ([Rwanda] 370 pos 310 neg [Uganda] 250 pos 310 neg)\n",
      "test sampler: 740 samples in total (370 pos, 370 neg) ([Rwanda] 370 pos 370 neg [Uganda] 0 pos 0 neg)\n",
      "test sampler: 500 samples in total (250 pos, 250 neg) ([Rwanda] 0 pos 0 neg [Uganda] 250 pos 250 neg)\n",
      "train sampler: 1630 samples in total (815 pos, 815 neg) ([Rwanda] 815 pos 815 neg [Uganda] 0 pos 0 neg)\n",
      "val sampler: 484 samples in total (242 pos, 242 neg) ([Rwanda] 242 pos 242 neg [Uganda] 0 pos 0 neg)\n",
      "test sampler: 1240 samples in total (620 pos, 620 neg) ([Rwanda] 370 pos 310 neg [Uganda] 250 pos 310 neg)\n",
      "test sampler: 740 samples in total (370 pos, 370 neg) ([Rwanda] 370 pos 370 neg [Uganda] 0 pos 0 neg)\n",
      "test sampler: 500 samples in total (250 pos, 250 neg) ([Rwanda] 0 pos 0 neg [Uganda] 250 pos 250 neg)\n",
      "train sampler: 1630 samples in total (815 pos, 815 neg) ([Rwanda] 815 pos 815 neg [Uganda] 0 pos 0 neg)\n",
      "val sampler: 484 samples in total (242 pos, 242 neg) ([Rwanda] 242 pos 242 neg [Uganda] 0 pos 0 neg)\n",
      "test sampler: 1240 samples in total (620 pos, 620 neg) ([Rwanda] 370 pos 310 neg [Uganda] 250 pos 310 neg)\n",
      "test sampler: 740 samples in total (370 pos, 370 neg) ([Rwanda] 370 pos 370 neg [Uganda] 0 pos 0 neg)\n",
      "test sampler: 500 samples in total (250 pos, 250 neg) ([Rwanda] 0 pos 0 neg [Uganda] 250 pos 250 neg)\n",
      "train sampler: 1964 samples in total (982 pos, 982 neg) ([Rwanda] 815 pos 654 neg [Uganda] 167 pos 328 neg)\n",
      "val sampler: 522 samples in total (261 pos, 261 neg) ([Rwanda] 242 pos 130 neg [Uganda] 19 pos 131 neg)\n",
      "test sampler: 868 samples in total (434 pos, 434 neg) ([Rwanda] 370 pos 217 neg [Uganda] 64 pos 217 neg)\n",
      "test sampler: 740 samples in total (370 pos, 370 neg) ([Rwanda] 370 pos 370 neg [Uganda] 0 pos 0 neg)\n",
      "test sampler: 128 samples in total (64 pos, 64 neg) ([Rwanda] 0 pos 0 neg [Uganda] 64 pos 64 neg)\n",
      "train sampler: 1964 samples in total (982 pos, 982 neg) ([Rwanda] 815 pos 654 neg [Uganda] 167 pos 328 neg)\n",
      "val sampler: 522 samples in total (261 pos, 261 neg) ([Rwanda] 242 pos 130 neg [Uganda] 19 pos 131 neg)\n",
      "test sampler: 868 samples in total (434 pos, 434 neg) ([Rwanda] 370 pos 217 neg [Uganda] 64 pos 217 neg)\n",
      "test sampler: 740 samples in total (370 pos, 370 neg) ([Rwanda] 370 pos 370 neg [Uganda] 0 pos 0 neg)\n",
      "test sampler: 128 samples in total (64 pos, 64 neg) ([Rwanda] 0 pos 0 neg [Uganda] 64 pos 64 neg)\n",
      "train sampler: 1964 samples in total (982 pos, 982 neg) ([Rwanda] 815 pos 654 neg [Uganda] 167 pos 328 neg)\n",
      "val sampler: 522 samples in total (261 pos, 261 neg) ([Rwanda] 242 pos 130 neg [Uganda] 19 pos 131 neg)\n",
      "test sampler: 868 samples in total (434 pos, 434 neg) ([Rwanda] 370 pos 217 neg [Uganda] 64 pos 217 neg)\n",
      "test sampler: 740 samples in total (370 pos, 370 neg) ([Rwanda] 370 pos 370 neg [Uganda] 0 pos 0 neg)\n",
      "test sampler: 128 samples in total (64 pos, 64 neg) ([Rwanda] 0 pos 0 neg [Uganda] 64 pos 64 neg)\n"
     ]
    }
   ],
   "source": [
    "for data_order, data_order_name in [[data_order_small, \"small\"], [data_order_large, \"large\"]]:\n",
    "    for version in [\"v1\", \"v2\"]:\n",
    "        for tile_size in [300, 600, 1200]:\n",
    "            numpy_save = {}\n",
    "            dataloaders = get_dataloaders(\n",
    "                batch_size=64, tile_size=tile_size, data_version=version, data_order=data_order, \n",
    "                transform=False, test_batch_size=64, use_augment=False,\n",
    "                use_rnd_center_point=False, use_several_test_samples=False)\n",
    "            for i, name in [[0, \"train\"], [1, \"val\"], [2, \"test_rwanda\"], [3, \"test_uganda\"]]:\n",
    "                X = []\n",
    "                Y = []\n",
    "                dataset = dataloaders[i].dataset\n",
    "                indices = list(dataloaders[i].sampler)\n",
    "                for j in indices:\n",
    "                    if dataset.train_gdf.iloc[j].pos_neg not in [\"pos\", \"neg\"]:\n",
    "                        continue\n",
    "                    x, y = dataset[j]\n",
    "                    num_channels = x.shape[0]\n",
    "                    X.append(x.view(1, num_channels, -1).numpy())\n",
    "                    Y.append(y)\n",
    "                X = np.concatenate(X, 0)\n",
    "                Y = np.array(Y)\n",
    "                numpy_save[\"{}_X\".format(name)] = X\n",
    "                numpy_save[\"{}_Y\".format(name)] = Y\n",
    "            np.savez(\n",
    "                \"data_{}_{}_{}.npz\".format(data_order_name, tile_size, version),\n",
    "                **numpy_save)"
   ]
  },
  {
   "cell_type": "code",
   "execution_count": 10,
   "id": "60e60212",
   "metadata": {},
   "outputs": [
    {
     "name": "stdout",
     "output_type": "stream",
     "text": [
      "(1630, 9, 2304) (1630,)\n",
      "(484, 9, 2304) (484,)\n",
      "(1240, 9, 2304) (1240,)\n",
      "(740, 9, 2304) (740,)\n",
      "\n",
      "(1630, 6, 2304) (1630,)\n",
      "(484, 6, 2304) (484,)\n",
      "(1240, 6, 2304) (1240,)\n",
      "(740, 6, 2304) (740,)\n",
      "\n",
      "(1964, 9, 2304) (1964,)\n",
      "(522, 9, 2304) (522,)\n",
      "(868, 9, 2304) (868,)\n",
      "(740, 9, 2304) (740,)\n",
      "\n",
      "(1964, 6, 2304) (1964,)\n",
      "(522, 6, 2304) (522,)\n",
      "(868, 6, 2304) (868,)\n",
      "(740, 6, 2304) (740,)\n"
     ]
    }
   ],
   "source": [
    "import numpy\n",
    "\n",
    "data = np.load(\"data_large_1200_v1.npz\")\n",
    "print(data[\"train_X\"].shape, data[\"train_Y\"].shape)\n",
    "print(data[\"val_X\"].shape, data[\"val_Y\"].shape)\n",
    "print(data[\"test_rwanda_X\"].shape, data[\"test_rwanda_Y\"].shape)\n",
    "print(data[\"test_uganda_X\"].shape, data[\"test_uganda_Y\"].shape)\n",
    "\n",
    "print()\n",
    "\n",
    "data = np.load(\"data_small_1200_v1.npz\")\n",
    "print(data[\"train_X\"].shape, data[\"train_Y\"].shape)\n",
    "print(data[\"val_X\"].shape, data[\"val_Y\"].shape)\n",
    "print(data[\"test_rwanda_X\"].shape, data[\"test_rwanda_Y\"].shape)\n",
    "print(data[\"test_uganda_X\"].shape, data[\"test_uganda_Y\"].shape)\n",
    "\n",
    "print()\n",
    "\n",
    "data = np.load(\"data_large_1200_v2.npz\")\n",
    "print(data[\"train_X\"].shape, data[\"train_Y\"].shape)\n",
    "print(data[\"val_X\"].shape, data[\"val_Y\"].shape)\n",
    "print(data[\"test_rwanda_X\"].shape, data[\"test_rwanda_Y\"].shape)\n",
    "print(data[\"test_uganda_X\"].shape, data[\"test_uganda_Y\"].shape)\n",
    "\n",
    "print()\n",
    "\n",
    "data = np.load(\"data_small_1200_v2.npz\")\n",
    "print(data[\"train_X\"].shape, data[\"train_Y\"].shape)\n",
    "print(data[\"val_X\"].shape, data[\"val_Y\"].shape)\n",
    "print(data[\"test_rwanda_X\"].shape, data[\"test_rwanda_Y\"].shape)\n",
    "print(data[\"test_uganda_X\"].shape, data[\"test_uganda_Y\"].shape)"
   ]
  },
  {
   "cell_type": "code",
   "execution_count": null,
   "id": "8f1543e7",
   "metadata": {},
   "outputs": [],
   "source": []
  }
 ],
 "metadata": {
  "kernelspec": {
   "display_name": "Python 3 (ipykernel)",
   "language": "python",
   "name": "python3"
  },
  "language_info": {
   "codemirror_mode": {
    "name": "ipython",
    "version": 3
   },
   "file_extension": ".py",
   "mimetype": "text/x-python",
   "name": "python",
   "nbconvert_exporter": "python",
   "pygments_lexer": "ipython3",
   "version": "3.7.12"
  }
 },
 "nbformat": 4,
 "nbformat_minor": 5
}
