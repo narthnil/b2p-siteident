{
 "cells": [
  {
   "cell_type": "code",
   "execution_count": 1,
   "id": "ebd73ef3",
   "metadata": {},
   "outputs": [],
   "source": [
    "import geopandas as gpd\n",
    "import numpy as np\n",
    "import pandas as pd\n",
    "import rasterio\n",
    "\n",
    "import matplotlib.pyplot as plt\n",
    "\n",
    "from rasterio import features, windows\n",
    "\n",
    "from geographiclib.geodesic import Geodesic\n",
    "from shapely.geometry import Polygon\n",
    "\n",
    "import tqdm.notebook as tqdm\n",
    "\n",
    "from torch.utils.data import Sampler, Dataset\n",
    "from typing import Iterator"
   ]
  },
  {
   "cell_type": "code",
   "execution_count": 2,
   "id": "f7af1c26",
   "metadata": {
    "code_folding": []
   },
   "outputs": [],
   "source": [
    "def get_square_area(longitude: float, latitude: float,\n",
    "                    square_length: float = 60., geod: Geodesic = None):\n",
    "    \"\"\"\n",
    "    Args:\n",
    "        lat: Latitude\n",
    "        lon: Longtitude\n",
    "        square_length: Measured in meters.\n",
    "        geod: (Geodesic)\n",
    "    \"\"\"\n",
    "    if geod is None:\n",
    "        #Define the ellipsoid\n",
    "        geod = Geodesic.WGS84\n",
    "        \n",
    "    diag_len = np.sqrt(2*(square_length / 2.)**2)\n",
    "    lr_point = geod.Direct(latitude, longitude, 135, diag_len)\n",
    "    ll_point = geod.Direct(latitude, longitude, -135, diag_len)\n",
    "    ul_point = geod.Direct(latitude, longitude, -45, diag_len)\n",
    "    ur_point = geod.Direct(latitude, longitude, 45, diag_len)\n",
    "    return [\n",
    "        # lr = lower right\n",
    "        [lr_point['lon2'], lr_point['lat2']],\n",
    "        # ll = lower left\n",
    "        [ll_point['lon2'], ll_point['lat2']],\n",
    "        # ul = upper left\n",
    "        [ul_point['lon2'], ul_point['lat2']],\n",
    "        # ur = upper right\n",
    "        [ur_point['lon2'], ur_point['lat2']]\n",
    "    ]"
   ]
  },
  {
   "cell_type": "code",
   "execution_count": 3,
   "id": "04051180",
   "metadata": {
    "code_folding": []
   },
   "outputs": [],
   "source": [
    "def get_bounds():\n",
    "    \n",
    "    rwanda_df, uganda_df = get_dfs()\n",
    "\n",
    "    lat_name = \"GPS (Latitude)\"\n",
    "    lon_name = \"GPS (Longitude)\"\n",
    "\n",
    "    bounds_dict = {c: {} for c in [\"rwanda\", \"uganda\"]}\n",
    "\n",
    "    exclude_ids = [\"1023076\"]\n",
    "    min_lat, max_lat = float(\"inf\"), - float(\"inf\")\n",
    "    min_lon, max_lon = float(\"inf\"), - float(\"inf\")\n",
    "    \n",
    "    for i, row in uganda_df.iterrows():\n",
    "        if row[\"Opportunity Unique Identifier\"] in exclude_ids:\n",
    "            continue\n",
    "        lat = row[lat_name]\n",
    "        lon = row[lon_name]\n",
    "        min_lat = min(min_lat, lat)\n",
    "        max_lat = max(max_lat, lat)\n",
    "        min_lon = min(min_lon, lon)\n",
    "        max_lon = max(max_lon, lon)\n",
    "\n",
    "    min_lat -= 30 / 3600\n",
    "    max_lat += 30 / 3600\n",
    "    min_lon -= 30 / 3600\n",
    "    max_lon += 30 / 3600\n",
    "\n",
    "    bounds_dict[\"uganda\"] = {\n",
    "        \"left\": min_lon,\n",
    "        \"bottom\": min_lat,\n",
    "        \"right\": max_lon,\n",
    "        \"top\": max_lat\n",
    "    }\n",
    "\n",
    "    rwanda_fp = \"../data/country_masks/rwanda_mask_1-3600.tiff\"\n",
    "    rwanda = rasterio.open(rwanda_fp)\n",
    "\n",
    "    bounds_dict[\"rwanda\"] = {\n",
    "        \"left\": rwanda.bounds.left,\n",
    "        \"bottom\": rwanda.bounds.bottom,\n",
    "        \"right\": rwanda.bounds.right,\n",
    "        \"top\": rwanda.bounds.top\n",
    "    }\n",
    "    return bounds_dict"
   ]
  },
  {
   "cell_type": "code",
   "execution_count": 4,
   "id": "838cb58f",
   "metadata": {
    "code_folding": []
   },
   "outputs": [],
   "source": [
    "def get_dfs():\n",
    "    rwanda_df = pd.read_csv(\n",
    "        \"../data/ground_truth/\"\n",
    "        \"Rwanda training data_AllSitesMinusVehicleBridges_21.11.05.csv\")\n",
    "    rwanda_df.dropna(inplace=True)\n",
    "    print(\"Number of Rwanda data points: {}\".format(len(rwanda_df)))\n",
    "\n",
    "    uganda_df = pd.read_csv(\n",
    "        \"../data/ground_truth/Uganda_TrainingData_3districts_ADSK.csv\")\n",
    "    uganda_df.dropna(inplace=True)\n",
    "    print(\"Number of Uganda data points: {}\".format(len(uganda_df)))\n",
    "\n",
    "    return rwanda_df, uganda_df"
   ]
  },
  {
   "cell_type": "code",
   "execution_count": 5,
   "id": "9011120b",
   "metadata": {
    "code_folding": [
     0
    ]
   },
   "outputs": [],
   "source": [
    "def get_val_range():\n",
    "    val_range = (\n",
    "        bounds_dict[\"rwanda\"][\"left\"] + (\n",
    "            bounds_dict[\"rwanda\"][\"right\"] - bounds_dict[\"rwanda\"][\"left\"]\n",
    "        ) / 10 * 5,\n",
    "        bounds_dict[\"rwanda\"][\"left\"] + (\n",
    "            bounds_dict[\"rwanda\"][\"right\"] - bounds_dict[\"rwanda\"][\"left\"]\n",
    "        ) / 10 * 6\n",
    "    )\n",
    "    return val_range"
   ]
  },
  {
   "cell_type": "markdown",
   "id": "b828f87b",
   "metadata": {},
   "source": [
    "# Create positive areas"
   ]
  },
  {
   "cell_type": "code",
   "execution_count": 6,
   "id": "5ceb3925",
   "metadata": {},
   "outputs": [
    {
     "name": "stdout",
     "output_type": "stream",
     "text": [
      "Number of Rwanda data points: 1429\n",
      "Number of Uganda data points: 251\n"
     ]
    }
   ],
   "source": [
    "rwanda_df, uganda_df = get_dfs()\n",
    "thres = 50\n",
    "\n",
    "lat_name = \"GPS (Latitude)\"\n",
    "lon_name = \"GPS (Longitude)\"\n",
    "\n",
    "for tile_size in [300, 600, 1200]:\n",
    "    pos_area_size = (tile_size - thres) * 4\n",
    "    \n",
    "    recid_name = \"Record ID\"\n",
    "    rwanda_polygons = []\n",
    "    for i, row in rwanda_df.iterrows():\n",
    "        lat = row[lat_name]\n",
    "        lon = row[lon_name]\n",
    "        rec_id = row[recid_name]\n",
    "        squared_area = get_square_area(lon, lat, square_length=pos_area_size)\n",
    "        polygon = Polygon(squared_area)\n",
    "        rwanda_polygons.append(polygon)\n",
    "\n",
    "    recid_name = \"Opportunity Unique Identifier\"\n",
    "    uganda_polygons = []\n",
    "    for i, row in uganda_df.iterrows():\n",
    "        lat = row[lat_name]\n",
    "        lon = row[lon_name]\n",
    "        rec_id = row[recid_name]\n",
    "        squared_area = get_square_area(lon, lat, square_length=pos_area_size)\n",
    "        polygon = Polygon(squared_area)\n",
    "        uganda_polygons.append(polygon)\n",
    "    \n",
    "    gpd.GeoSeries(rwanda_polygons, crs=\"EPSG:4326\").to_file(\n",
    "        \"../data/ground_truth/rwanda_train_{}.geojson\".format(tile_size))\n",
    "    gpd.GeoSeries(uganda_polygons, crs=\"EPSG:4326\").to_file(\n",
    "        \"../data/ground_truth/uganda_train_{}.geojson\".format(tile_size))"
   ]
  },
  {
   "cell_type": "markdown",
   "id": "ae90d28b",
   "metadata": {
    "heading_collapsed": true
   },
   "source": [
    "# Create negative coordinates"
   ]
  },
  {
   "cell_type": "code",
   "execution_count": 101,
   "id": "d96c1a8d",
   "metadata": {
    "code_folding": [
     5
    ],
    "hidden": true
   },
   "outputs": [
    {
     "name": "stdout",
     "output_type": "stream",
     "text": [
      "Number of Rwanda data points: 1429\n",
      "Number of Uganda data points: 251\n",
      "{\n",
      "    \"rwanda\": {\n",
      "        \"left\": 28.854442596,\n",
      "        \"bottom\": -2.8255556621111113,\n",
      "        \"right\": 30.893331484888886,\n",
      "        \"top\": -1.054444551\n",
      "    },\n",
      "    \"uganda\": {\n",
      "        \"left\": 29.727706666666666,\n",
      "        \"bottom\": -0.29569133333333336,\n",
      "        \"right\": 30.608246333333334,\n",
      "        \"top\": 0.8944093333333333\n",
      "    }\n",
      "}\n",
      "Country: rwanda, tile size: 300\n"
     ]
    },
    {
     "data": {
      "application/vnd.jupyter.widget-view+json": {
       "model_id": "2387efce7d5b45529de36ee37f3a84ab",
       "version_major": 2,
       "version_minor": 0
      },
      "text/plain": [
       "Iterate through range::   0%|          | 0/637 [00:00<?, ?it/s]"
      ]
     },
     "metadata": {},
     "output_type": "display_data"
    },
    {
     "name": "stdout",
     "output_type": "stream",
     "text": [
      "Country: uganda, tile size: 300\n"
     ]
    },
    {
     "data": {
      "application/vnd.jupyter.widget-view+json": {
       "model_id": "8cc5db6abe7e4f0b9ceb07915dfb5a6f",
       "version_major": 2,
       "version_minor": 0
      },
      "text/plain": [
       "Iterate through range::   0%|          | 0/428 [00:00<?, ?it/s]"
      ]
     },
     "metadata": {},
     "output_type": "display_data"
    },
    {
     "name": "stdout",
     "output_type": "stream",
     "text": [
      "Country: rwanda, tile size: 600\n"
     ]
    },
    {
     "data": {
      "application/vnd.jupyter.widget-view+json": {
       "model_id": "6d7e3b459baf453ea05ab6c42b3bfbc2",
       "version_major": 2,
       "version_minor": 0
      },
      "text/plain": [
       "Iterate through range::   0%|          | 0/637 [00:00<?, ?it/s]"
      ]
     },
     "metadata": {},
     "output_type": "display_data"
    },
    {
     "name": "stdout",
     "output_type": "stream",
     "text": [
      "Country: uganda, tile size: 600\n"
     ]
    },
    {
     "data": {
      "application/vnd.jupyter.widget-view+json": {
       "model_id": "32175702988547a191bfb6cc071406e9",
       "version_major": 2,
       "version_minor": 0
      },
      "text/plain": [
       "Iterate through range::   0%|          | 0/428 [00:00<?, ?it/s]"
      ]
     },
     "metadata": {},
     "output_type": "display_data"
    },
    {
     "name": "stdout",
     "output_type": "stream",
     "text": [
      "Country: rwanda, tile size: 1200\n"
     ]
    },
    {
     "data": {
      "application/vnd.jupyter.widget-view+json": {
       "model_id": "43783bbde4f8469bb9e0827d4ca1851d",
       "version_major": 2,
       "version_minor": 0
      },
      "text/plain": [
       "Iterate through range::   0%|          | 0/637 [00:00<?, ?it/s]"
      ]
     },
     "metadata": {},
     "output_type": "display_data"
    },
    {
     "name": "stdout",
     "output_type": "stream",
     "text": [
      "Country: uganda, tile size: 1200\n"
     ]
    },
    {
     "data": {
      "application/vnd.jupyter.widget-view+json": {
       "model_id": "154c421866e5489fa076aaca026b9821",
       "version_major": 2,
       "version_minor": 0
      },
      "text/plain": [
       "Iterate through range::   0%|          | 0/428 [00:00<?, ?it/s]"
      ]
     },
     "metadata": {},
     "output_type": "display_data"
    }
   ],
   "source": [
    "bounds_dict = get_bounds()\n",
    "print(json.dumps(bounds_dict, indent=4))\n",
    "\n",
    "step_size = 10 / 3600\n",
    "\n",
    "for tile_size in [300, 600, 1200]:\n",
    "    for country, bounds in bounds_dict.items():\n",
    "        print(\"Country: {}, tile size: {}\".format(country, tile_size))\n",
    "        if country == \"rwanda\":\n",
    "            gt_raster = rasterio.open(\n",
    "                \"../data/ground_truth/rwanda_train_{}_1-3600.tiff\".format(\n",
    "                    tile_size))\n",
    "            country_raster = rasterio.open(\n",
    "                \"../data/country_masks/rwanda_mask_1-3600.tiff\")\n",
    "        elif country == \"uganda\":\n",
    "            gt_raster = rasterio.open(\n",
    "                \"../data/ground_truth/uganda_train_{}_1-3600.tiff\".format(\n",
    "                    tile_size))\n",
    "            country_raster = rasterio.open(\n",
    "                \"../data/country_masks/uganda_mask_1-3600.tiff\")\n",
    "        else:\n",
    "            raise NotImplementedError\n",
    "        \n",
    "        lon_range = np.linspace(\n",
    "            bounds[\"left\"],\n",
    "            bounds[\"right\"],\n",
    "            num=int((bounds[\"right\"] - bounds[\"left\"]) / step_size)\n",
    "        )\n",
    "        lat_range = np.linspace(\n",
    "            bounds[\"bottom\"],\n",
    "            bounds[\"top\"],\n",
    "            num=int(np.abs(bounds[\"bottom\"] - bounds[\"top\"]) / step_size)\n",
    "        )\n",
    "        num_gt_pos_area = 0\n",
    "        num_coords = 0\n",
    "        num_valid_coords = 0\n",
    "        num_too_small_area = 0\n",
    "        num_out_of_bounds = 0\n",
    "\n",
    "        pbar = tqdm.tqdm(\n",
    "            range(lat_range.shape[0]), total=lat_range.shape[0],\n",
    "            desc=\"Iterate through range:\")\n",
    "        coords_data = [[\"left\", \"bottom\", \"right\", \"top\"]]\n",
    "        for i in pbar:\n",
    "            for j in range(lon_range.shape[0]):\n",
    "                # latitude, longitude\n",
    "                lat = lat_range[i]\n",
    "                lon = lon_range[j]\n",
    "                # coordinates of area with size tile_size\n",
    "                area_coords = get_square_area(lon, lat, square_length=tile_size)\n",
    "                # get left = lat, bottom = lon, right = lat, top = lon\n",
    "                left = min([ac[0] for ac in area_coords])\n",
    "                bottom = min([ac[1] for ac in area_coords])\n",
    "                right = max([ac[0] for ac in area_coords])\n",
    "                top = max([ac[1] for ac in area_coords])\n",
    "                \n",
    "                if (left < bounds[\"left\"] or right > bounds[\"right\"] or\n",
    "                        bottom < bounds[\"bottom\"] or top > bounds[\"top\"]):\n",
    "                    num_out_of_bounds += 1\n",
    "                    continue                    \n",
    "                window_gt = windows.from_bounds(\n",
    "                    left, bottom, right, top, gt_raster.transform)\n",
    "                window_co = windows.from_bounds(\n",
    "                    left, bottom, right, top, country_raster.transform)\n",
    "                # country mask\n",
    "                gt_mask = gt_raster.read(1, window=window_gt)\n",
    "                co_mask = country_raster.read(1, window=window_co)\n",
    "                num_coords += 1\n",
    "                if gt_mask.sum() > 0:\n",
    "                    num_gt_pos_area += 1\n",
    "                    continue\n",
    "                if np.prod(np.array(co_mask.shape)) == 0:\n",
    "                    raise Exception(\"Array == 0.\")\n",
    "                if co_mask.sum() / np.prod(np.array(co_mask.shape)) < 0.75:\n",
    "                    num_too_small_area += 1\n",
    "                    continue\n",
    "                num_valid_coords += 1\n",
    "                coords_data.append([left, bottom, right, top])\n",
    "                \n",
    "            pbar.set_description(\n",
    "                \"[{}] total: {} pos: {} small: {} ood: {} neg: {}\".format(\n",
    "                    i, num_coords, num_gt_pos_area, num_too_small_area, \n",
    "                    num_out_of_bounds, num_valid_coords))\n",
    "        target_fp = \"../data/ground_truth/{}_{}_negatives.csv\".format(\n",
    "            country, tile_size)\n",
    "        pd.DataFrame(coords_data[1:], columns=coords_data[0]).to_csv(\n",
    "            target_fp, index=False)\n",
    "        "
   ]
  },
  {
   "cell_type": "markdown",
   "id": "026d1d4d",
   "metadata": {
    "heading_collapsed": true
   },
   "source": [
    "# Processing Training data"
   ]
  },
  {
   "cell_type": "markdown",
   "id": "efdf1e69",
   "metadata": {
    "heading_collapsed": true,
    "hidden": true
   },
   "source": [
    "## Merging Uganda and Rwanda data into one DF"
   ]
  },
  {
   "cell_type": "code",
   "execution_count": 14,
   "id": "0ce14b8c",
   "metadata": {
    "hidden": true
   },
   "outputs": [
    {
     "name": "stdout",
     "output_type": "stream",
     "text": [
      "Number of Rwanda data points: 1429\n",
      "Number of Uganda data points: 251\n",
      "Number of Rwanda data points: 1429\n",
      "Number of Uganda data points: 251\n"
     ]
    },
    {
     "data": {
      "text/html": [
       "<div>\n",
       "<style scoped>\n",
       "    .dataframe tbody tr th:only-of-type {\n",
       "        vertical-align: middle;\n",
       "    }\n",
       "\n",
       "    .dataframe tbody tr th {\n",
       "        vertical-align: top;\n",
       "    }\n",
       "\n",
       "    .dataframe thead th {\n",
       "        text-align: right;\n",
       "    }\n",
       "</style>\n",
       "<table border=\"1\" class=\"dataframe\">\n",
       "  <thead>\n",
       "    <tr style=\"text-align: right;\">\n",
       "      <th></th>\n",
       "      <th>Opportunity ID</th>\n",
       "      <th>GPS (Latitude)</th>\n",
       "      <th>GPS (Longitude)</th>\n",
       "      <th>Country</th>\n",
       "      <th>Split</th>\n",
       "    </tr>\n",
       "  </thead>\n",
       "  <tbody>\n",
       "    <tr>\n",
       "      <th>0</th>\n",
       "      <td>rw-006f100000a86EH</td>\n",
       "      <td>-2.168670</td>\n",
       "      <td>30.262610</td>\n",
       "      <td>Rwanda</td>\n",
       "      <td></td>\n",
       "    </tr>\n",
       "    <tr>\n",
       "      <th>1</th>\n",
       "      <td>rw-006f100000dhpDZ</td>\n",
       "      <td>-2.188740</td>\n",
       "      <td>29.690270</td>\n",
       "      <td>Rwanda</td>\n",
       "      <td></td>\n",
       "    </tr>\n",
       "    <tr>\n",
       "      <th>2</th>\n",
       "      <td>rw-006f100000ZQRps</td>\n",
       "      <td>-1.555918</td>\n",
       "      <td>30.211844</td>\n",
       "      <td>Rwanda</td>\n",
       "      <td></td>\n",
       "    </tr>\n",
       "    <tr>\n",
       "      <th>3</th>\n",
       "      <td>rw-006f100000ZQRkP</td>\n",
       "      <td>-1.848167</td>\n",
       "      <td>30.097000</td>\n",
       "      <td>Rwanda</td>\n",
       "      <td></td>\n",
       "    </tr>\n",
       "    <tr>\n",
       "      <th>4</th>\n",
       "      <td>rw-006f100000ZQRpz</td>\n",
       "      <td>-1.813833</td>\n",
       "      <td>30.098779</td>\n",
       "      <td>Rwanda</td>\n",
       "      <td></td>\n",
       "    </tr>\n",
       "    <tr>\n",
       "      <th>...</th>\n",
       "      <td>...</td>\n",
       "      <td>...</td>\n",
       "      <td>...</td>\n",
       "      <td>...</td>\n",
       "      <td>...</td>\n",
       "    </tr>\n",
       "    <tr>\n",
       "      <th>1674</th>\n",
       "      <td>ug-0063Z00000oLjgc</td>\n",
       "      <td>0.175244</td>\n",
       "      <td>29.964349</td>\n",
       "      <td>Uganda</td>\n",
       "      <td></td>\n",
       "    </tr>\n",
       "    <tr>\n",
       "      <th>1675</th>\n",
       "      <td>ug-0063Z00000oLjgh</td>\n",
       "      <td>0.165684</td>\n",
       "      <td>29.964487</td>\n",
       "      <td>Uganda</td>\n",
       "      <td></td>\n",
       "    </tr>\n",
       "    <tr>\n",
       "      <th>1676</th>\n",
       "      <td>ug-0063Z00000oLjgm</td>\n",
       "      <td>0.155498</td>\n",
       "      <td>29.965507</td>\n",
       "      <td>Uganda</td>\n",
       "      <td></td>\n",
       "    </tr>\n",
       "    <tr>\n",
       "      <th>1677</th>\n",
       "      <td>ug-0063Z00000oLjgr</td>\n",
       "      <td>0.108615</td>\n",
       "      <td>29.736040</td>\n",
       "      <td>Uganda</td>\n",
       "      <td></td>\n",
       "    </tr>\n",
       "    <tr>\n",
       "      <th>1678</th>\n",
       "      <td>ug-0063Z00000oLjgw</td>\n",
       "      <td>0.000133</td>\n",
       "      <td>29.738337</td>\n",
       "      <td>Uganda</td>\n",
       "      <td></td>\n",
       "    </tr>\n",
       "  </tbody>\n",
       "</table>\n",
       "<p>1679 rows × 5 columns</p>\n",
       "</div>"
      ],
      "text/plain": [
       "          Opportunity ID  GPS (Latitude)  GPS (Longitude) Country Split\n",
       "0     rw-006f100000a86EH       -2.168670        30.262610  Rwanda      \n",
       "1     rw-006f100000dhpDZ       -2.188740        29.690270  Rwanda      \n",
       "2     rw-006f100000ZQRps       -1.555918        30.211844  Rwanda      \n",
       "3     rw-006f100000ZQRkP       -1.848167        30.097000  Rwanda      \n",
       "4     rw-006f100000ZQRpz       -1.813833        30.098779  Rwanda      \n",
       "...                  ...             ...              ...     ...   ...\n",
       "1674  ug-0063Z00000oLjgc        0.175244        29.964349  Uganda      \n",
       "1675  ug-0063Z00000oLjgh        0.165684        29.964487  Uganda      \n",
       "1676  ug-0063Z00000oLjgm        0.155498        29.965507  Uganda      \n",
       "1677  ug-0063Z00000oLjgr        0.108615        29.736040  Uganda      \n",
       "1678  ug-0063Z00000oLjgw        0.000133        29.738337  Uganda      \n",
       "\n",
       "[1679 rows x 5 columns]"
      ]
     },
     "execution_count": 14,
     "metadata": {},
     "output_type": "execute_result"
    }
   ],
   "source": [
    "rwanda_df, uganda_df = get_dfs()\n",
    "bounds_dict = get_bounds()\n",
    "\n",
    "lat_name = \"GPS (Latitude)\"\n",
    "lon_name = \"GPS (Longitude)\"\n",
    "\n",
    "# add country name\n",
    "rwanda_df[\"Country\"] = \"Rwanda\"\n",
    "uganda_df[\"Country\"] = \"Uganda\"\n",
    "# rename `Record ID` to `Opportunity ID`\n",
    "rwanda_df.rename(columns={\"Record ID\": \"Opportunity ID\"}, inplace=True)\n",
    "# exclude 0063Z00000ixAgR due to wrong coordinates\n",
    "uganda_df.drop(\n",
    "    uganda_df[uganda_df[\"Opportunity ID\"] == \"0063Z00000ixAgR\"].index[0],\n",
    "    axis=0, inplace=True)\n",
    "# adding country shortcut to be (for sure) unique\n",
    "rwanda_df[\"Opportunity ID\"] = \"rw-\" + rwanda_df[\"Opportunity ID\"]\n",
    "uganda_df[\"Opportunity ID\"] = \"ug-\" + uganda_df[\"Opportunity ID\"]\n",
    "# drop tables that we don't need\n",
    "uganda_df.drop(\"Opportunity Unique Identifier\", axis=1, inplace=True)\n",
    "rwanda_df.drop(\"Site Name\", axis=1, inplace=True)\n",
    "# concat\n",
    "rw_ug_df = pd.concat([rwanda_df, uganda_df])\n",
    "# reset index\n",
    "rw_ug_df.reset_index(drop=True, inplace=True)\n",
    "rw_ug_df[\"Split\"] = \"\"\n",
    "rw_ug_df = rw_ug_df.astype({\n",
    "    \"Opportunity ID\": str,\n",
    "    \"GPS (Latitude)\": float,\n",
    "    \"GPS (Longitude)\": float,\n",
    "    \"Country\": str,\n",
    "    \"Split\": str\n",
    "})\n",
    "\n",
    "\n",
    "rw_ug_df"
   ]
  },
  {
   "cell_type": "markdown",
   "id": "10b73e32",
   "metadata": {
    "heading_collapsed": true,
    "hidden": true
   },
   "source": [
    "## Validating training data"
   ]
  },
  {
   "cell_type": "code",
   "execution_count": 17,
   "id": "3f0004e0",
   "metadata": {
    "hidden": true
   },
   "outputs": [],
   "source": [
    "# left, right: Longitude\n",
    "# bottom, top: Latitude"
   ]
  },
  {
   "cell_type": "code",
   "execution_count": 95,
   "id": "3eeb813f",
   "metadata": {
    "hidden": true
   },
   "outputs": [
    {
     "data": {
      "text/html": [
       "<div>\n",
       "<style scoped>\n",
       "    .dataframe tbody tr th:only-of-type {\n",
       "        vertical-align: middle;\n",
       "    }\n",
       "\n",
       "    .dataframe tbody tr th {\n",
       "        vertical-align: top;\n",
       "    }\n",
       "\n",
       "    .dataframe thead th {\n",
       "        text-align: right;\n",
       "    }\n",
       "</style>\n",
       "<table border=\"1\" class=\"dataframe\">\n",
       "  <thead>\n",
       "    <tr style=\"text-align: right;\">\n",
       "      <th></th>\n",
       "      <th>Opportunity ID</th>\n",
       "      <th>GPS (Latitude)</th>\n",
       "      <th>GPS (Longitude)</th>\n",
       "      <th>Country</th>\n",
       "      <th>Split</th>\n",
       "      <th>left</th>\n",
       "      <th>right</th>\n",
       "      <th>bottom</th>\n",
       "      <th>top</th>\n",
       "      <th>pos_neg</th>\n",
       "    </tr>\n",
       "  </thead>\n",
       "  <tbody>\n",
       "  </tbody>\n",
       "</table>\n",
       "</div>"
      ],
      "text/plain": [
       "Empty DataFrame\n",
       "Columns: [Opportunity ID, GPS (Latitude), GPS (Longitude), Country, Split, left, right, bottom, top, pos_neg]\n",
       "Index: []"
      ]
     },
     "execution_count": 95,
     "metadata": {},
     "output_type": "execute_result"
    }
   ],
   "source": [
    "rw_ug_df[(rw_ug_df.Country == \"Rwanda\") & (\n",
    "    (rw_ug_df.left < bounds_dict[\"rwanda\"][\"left\"]) |\n",
    "    (rw_ug_df.right < bounds_dict[\"rwanda\"][\"right\"]) | \n",
    "    (rw_ug_df.bottom < bounds_dict[\"rwanda\"][\"bottom\"]) | \n",
    "    (rw_ug_df.top < bounds_dict[\"rwanda\"][\"top\"])\n",
    ")]"
   ]
  },
  {
   "cell_type": "code",
   "execution_count": 96,
   "id": "46909c2b",
   "metadata": {
    "hidden": true
   },
   "outputs": [
    {
     "data": {
      "text/html": [
       "<div>\n",
       "<style scoped>\n",
       "    .dataframe tbody tr th:only-of-type {\n",
       "        vertical-align: middle;\n",
       "    }\n",
       "\n",
       "    .dataframe tbody tr th {\n",
       "        vertical-align: top;\n",
       "    }\n",
       "\n",
       "    .dataframe thead th {\n",
       "        text-align: right;\n",
       "    }\n",
       "</style>\n",
       "<table border=\"1\" class=\"dataframe\">\n",
       "  <thead>\n",
       "    <tr style=\"text-align: right;\">\n",
       "      <th></th>\n",
       "      <th>Opportunity ID</th>\n",
       "      <th>GPS (Latitude)</th>\n",
       "      <th>GPS (Longitude)</th>\n",
       "      <th>Country</th>\n",
       "      <th>Split</th>\n",
       "      <th>left</th>\n",
       "      <th>right</th>\n",
       "      <th>bottom</th>\n",
       "      <th>top</th>\n",
       "      <th>pos_neg</th>\n",
       "    </tr>\n",
       "  </thead>\n",
       "  <tbody>\n",
       "  </tbody>\n",
       "</table>\n",
       "</div>"
      ],
      "text/plain": [
       "Empty DataFrame\n",
       "Columns: [Opportunity ID, GPS (Latitude), GPS (Longitude), Country, Split, left, right, bottom, top, pos_neg]\n",
       "Index: []"
      ]
     },
     "execution_count": 96,
     "metadata": {},
     "output_type": "execute_result"
    }
   ],
   "source": [
    "rw_ug_df[(rw_ug_df.Country == \"Uganda\") & (\n",
    "    (rw_ug_df.left < bounds_dict[\"uganda\"][\"left\"]) |\n",
    "    (rw_ug_df.right < bounds_dict[\"uganda\"][\"right\"]) | \n",
    "    (rw_ug_df.bottom < bounds_dict[\"uganda\"][\"bottom\"]) | \n",
    "    (rw_ug_df.top < bounds_dict[\"uganda\"][\"top\"])\n",
    ")]"
   ]
  },
  {
   "cell_type": "code",
   "execution_count": 18,
   "id": "8f1b0210",
   "metadata": {
    "hidden": true
   },
   "outputs": [
    {
     "name": "stdout",
     "output_type": "stream",
     "text": [
      "Threshold: -2.8255556621111113\n"
     ]
    },
    {
     "data": {
      "text/html": [
       "<div>\n",
       "<style scoped>\n",
       "    .dataframe tbody tr th:only-of-type {\n",
       "        vertical-align: middle;\n",
       "    }\n",
       "\n",
       "    .dataframe tbody tr th {\n",
       "        vertical-align: top;\n",
       "    }\n",
       "\n",
       "    .dataframe thead th {\n",
       "        text-align: right;\n",
       "    }\n",
       "</style>\n",
       "<table border=\"1\" class=\"dataframe\">\n",
       "  <thead>\n",
       "    <tr style=\"text-align: right;\">\n",
       "      <th></th>\n",
       "      <th>Opportunity ID</th>\n",
       "      <th>GPS (Latitude)</th>\n",
       "      <th>GPS (Longitude)</th>\n",
       "      <th>Country</th>\n",
       "      <th>Split</th>\n",
       "    </tr>\n",
       "  </thead>\n",
       "  <tbody>\n",
       "  </tbody>\n",
       "</table>\n",
       "</div>"
      ],
      "text/plain": [
       "Empty DataFrame\n",
       "Columns: [Opportunity ID, GPS (Latitude), GPS (Longitude), Country, Split]\n",
       "Index: []"
      ]
     },
     "execution_count": 18,
     "metadata": {},
     "output_type": "execute_result"
    }
   ],
   "source": [
    "print(\"Threshold: {}\".format(bounds_dict[\"rwanda\"][\"bottom\"]))\n",
    "rw_ug_df[\n",
    "    (rw_ug_df[\"Country\"] == \"Rwanda\") & (\n",
    "        rw_ug_df[lat_name] < bounds_dict[\"rwanda\"][\"bottom\"])\n",
    "]"
   ]
  },
  {
   "cell_type": "code",
   "execution_count": 19,
   "id": "23ce3d1d",
   "metadata": {
    "hidden": true
   },
   "outputs": [
    {
     "name": "stdout",
     "output_type": "stream",
     "text": [
      "Threshold: -1.054444551\n"
     ]
    },
    {
     "data": {
      "text/html": [
       "<div>\n",
       "<style scoped>\n",
       "    .dataframe tbody tr th:only-of-type {\n",
       "        vertical-align: middle;\n",
       "    }\n",
       "\n",
       "    .dataframe tbody tr th {\n",
       "        vertical-align: top;\n",
       "    }\n",
       "\n",
       "    .dataframe thead th {\n",
       "        text-align: right;\n",
       "    }\n",
       "</style>\n",
       "<table border=\"1\" class=\"dataframe\">\n",
       "  <thead>\n",
       "    <tr style=\"text-align: right;\">\n",
       "      <th></th>\n",
       "      <th>Opportunity ID</th>\n",
       "      <th>GPS (Latitude)</th>\n",
       "      <th>GPS (Longitude)</th>\n",
       "      <th>Country</th>\n",
       "      <th>Split</th>\n",
       "    </tr>\n",
       "  </thead>\n",
       "  <tbody>\n",
       "    <tr>\n",
       "      <th>812</th>\n",
       "      <td>rw-006f100000a86FN</td>\n",
       "      <td>2.472400</td>\n",
       "      <td>29.500000</td>\n",
       "      <td>Rwanda</td>\n",
       "      <td></td>\n",
       "    </tr>\n",
       "    <tr>\n",
       "      <th>857</th>\n",
       "      <td>rw-006f100000d7JDC</td>\n",
       "      <td>2.442831</td>\n",
       "      <td>29.499347</td>\n",
       "      <td>Rwanda</td>\n",
       "      <td></td>\n",
       "    </tr>\n",
       "    <tr>\n",
       "      <th>895</th>\n",
       "      <td>rw-006f100000a86GS</td>\n",
       "      <td>2.713945</td>\n",
       "      <td>29.594535</td>\n",
       "      <td>Rwanda</td>\n",
       "      <td></td>\n",
       "    </tr>\n",
       "  </tbody>\n",
       "</table>\n",
       "</div>"
      ],
      "text/plain": [
       "         Opportunity ID  GPS (Latitude)  GPS (Longitude) Country Split\n",
       "812  rw-006f100000a86FN        2.472400        29.500000  Rwanda      \n",
       "857  rw-006f100000d7JDC        2.442831        29.499347  Rwanda      \n",
       "895  rw-006f100000a86GS        2.713945        29.594535  Rwanda      "
      ]
     },
     "execution_count": 19,
     "metadata": {},
     "output_type": "execute_result"
    }
   ],
   "source": [
    "print(\"Threshold: {}\".format(bounds_dict[\"rwanda\"][\"top\"]))\n",
    "rw_ug_df[\n",
    "    (rw_ug_df[\"Country\"] == \"Rwanda\") & (\n",
    "        rw_ug_df[lat_name] > bounds_dict[\"rwanda\"][\"top\"])\n",
    "]"
   ]
  },
  {
   "cell_type": "code",
   "execution_count": 20,
   "id": "73664d16",
   "metadata": {
    "hidden": true
   },
   "outputs": [
    {
     "data": {
      "text/html": [
       "<div>\n",
       "<style scoped>\n",
       "    .dataframe tbody tr th:only-of-type {\n",
       "        vertical-align: middle;\n",
       "    }\n",
       "\n",
       "    .dataframe tbody tr th {\n",
       "        vertical-align: top;\n",
       "    }\n",
       "\n",
       "    .dataframe thead th {\n",
       "        text-align: right;\n",
       "    }\n",
       "</style>\n",
       "<table border=\"1\" class=\"dataframe\">\n",
       "  <thead>\n",
       "    <tr style=\"text-align: right;\">\n",
       "      <th></th>\n",
       "      <th>Opportunity ID</th>\n",
       "      <th>GPS (Latitude)</th>\n",
       "      <th>GPS (Longitude)</th>\n",
       "      <th>Country</th>\n",
       "      <th>Split</th>\n",
       "    </tr>\n",
       "  </thead>\n",
       "  <tbody>\n",
       "  </tbody>\n",
       "</table>\n",
       "</div>"
      ],
      "text/plain": [
       "Empty DataFrame\n",
       "Columns: [Opportunity ID, GPS (Latitude), GPS (Longitude), Country, Split]\n",
       "Index: []"
      ]
     },
     "execution_count": 20,
     "metadata": {},
     "output_type": "execute_result"
    }
   ],
   "source": [
    "# drop\n",
    "indeces = rw_ug_df[\n",
    "    (rw_ug_df[\"Country\"] == \"Rwanda\") & (\n",
    "        rw_ug_df[lat_name] > bounds_dict[\"rwanda\"][\"top\"])\n",
    "].index\n",
    "rw_ug_df.drop(indeces, axis=0, inplace=True)\n",
    "rw_ug_df[\n",
    "    (rw_ug_df[\"Country\"] == \"Rwanda\") & (\n",
    "        rw_ug_df[lat_name] > bounds_dict[\"rwanda\"][\"top\"])\n",
    "]"
   ]
  },
  {
   "cell_type": "code",
   "execution_count": 21,
   "id": "a102ffff",
   "metadata": {
    "hidden": true
   },
   "outputs": [
    {
     "name": "stdout",
     "output_type": "stream",
     "text": [
      "Threshold: 28.854442596\n"
     ]
    },
    {
     "data": {
      "text/html": [
       "<div>\n",
       "<style scoped>\n",
       "    .dataframe tbody tr th:only-of-type {\n",
       "        vertical-align: middle;\n",
       "    }\n",
       "\n",
       "    .dataframe tbody tr th {\n",
       "        vertical-align: top;\n",
       "    }\n",
       "\n",
       "    .dataframe thead th {\n",
       "        text-align: right;\n",
       "    }\n",
       "</style>\n",
       "<table border=\"1\" class=\"dataframe\">\n",
       "  <thead>\n",
       "    <tr style=\"text-align: right;\">\n",
       "      <th></th>\n",
       "      <th>Opportunity ID</th>\n",
       "      <th>GPS (Latitude)</th>\n",
       "      <th>GPS (Longitude)</th>\n",
       "      <th>Country</th>\n",
       "      <th>Split</th>\n",
       "    </tr>\n",
       "  </thead>\n",
       "  <tbody>\n",
       "    <tr>\n",
       "      <th>993</th>\n",
       "      <td>rw-006f100000d88A3</td>\n",
       "      <td>-2.19348</td>\n",
       "      <td>-29.49645</td>\n",
       "      <td>Rwanda</td>\n",
       "      <td></td>\n",
       "    </tr>\n",
       "    <tr>\n",
       "      <th>1160</th>\n",
       "      <td>rw-006f100000d1hU7</td>\n",
       "      <td>-2.58127</td>\n",
       "      <td>28.15265</td>\n",
       "      <td>Rwanda</td>\n",
       "      <td></td>\n",
       "    </tr>\n",
       "  </tbody>\n",
       "</table>\n",
       "</div>"
      ],
      "text/plain": [
       "          Opportunity ID  GPS (Latitude)  GPS (Longitude) Country Split\n",
       "993   rw-006f100000d88A3        -2.19348        -29.49645  Rwanda      \n",
       "1160  rw-006f100000d1hU7        -2.58127         28.15265  Rwanda      "
      ]
     },
     "execution_count": 21,
     "metadata": {},
     "output_type": "execute_result"
    }
   ],
   "source": [
    "print(\"Threshold: {}\".format(bounds_dict[\"rwanda\"][\"left\"]))\n",
    "rw_ug_df[\n",
    "    (rw_ug_df[\"Country\"] == \"Rwanda\") & (\n",
    "        rw_ug_df[lon_name] < bounds_dict[\"rwanda\"][\"left\"])\n",
    "]"
   ]
  },
  {
   "cell_type": "code",
   "execution_count": 22,
   "id": "2ba4d3f0",
   "metadata": {
    "hidden": true
   },
   "outputs": [
    {
     "data": {
      "text/html": [
       "<div>\n",
       "<style scoped>\n",
       "    .dataframe tbody tr th:only-of-type {\n",
       "        vertical-align: middle;\n",
       "    }\n",
       "\n",
       "    .dataframe tbody tr th {\n",
       "        vertical-align: top;\n",
       "    }\n",
       "\n",
       "    .dataframe thead th {\n",
       "        text-align: right;\n",
       "    }\n",
       "</style>\n",
       "<table border=\"1\" class=\"dataframe\">\n",
       "  <thead>\n",
       "    <tr style=\"text-align: right;\">\n",
       "      <th></th>\n",
       "      <th>Opportunity ID</th>\n",
       "      <th>GPS (Latitude)</th>\n",
       "      <th>GPS (Longitude)</th>\n",
       "      <th>Country</th>\n",
       "      <th>Split</th>\n",
       "    </tr>\n",
       "  </thead>\n",
       "  <tbody>\n",
       "  </tbody>\n",
       "</table>\n",
       "</div>"
      ],
      "text/plain": [
       "Empty DataFrame\n",
       "Columns: [Opportunity ID, GPS (Latitude), GPS (Longitude), Country, Split]\n",
       "Index: []"
      ]
     },
     "execution_count": 22,
     "metadata": {},
     "output_type": "execute_result"
    }
   ],
   "source": [
    "# drop \n",
    "indeces = rw_ug_df[\n",
    "    (rw_ug_df[\"Country\"] == \"Rwanda\") & (\n",
    "        rw_ug_df[lon_name] < bounds_dict[\"rwanda\"][\"left\"])\n",
    "].index\n",
    "rw_ug_df.drop(indeces, axis=0, inplace=True)\n",
    "rw_ug_df[\n",
    "    (rw_ug_df[\"Country\"] == \"Rwanda\") & (\n",
    "        rw_ug_df[lon_name] < bounds_dict[\"rwanda\"][\"left\"])\n",
    "]"
   ]
  },
  {
   "cell_type": "code",
   "execution_count": 23,
   "id": "27eee262",
   "metadata": {
    "hidden": true
   },
   "outputs": [
    {
     "name": "stdout",
     "output_type": "stream",
     "text": [
      "Threshold: 30.893331484888886\n"
     ]
    },
    {
     "data": {
      "text/html": [
       "<div>\n",
       "<style scoped>\n",
       "    .dataframe tbody tr th:only-of-type {\n",
       "        vertical-align: middle;\n",
       "    }\n",
       "\n",
       "    .dataframe tbody tr th {\n",
       "        vertical-align: top;\n",
       "    }\n",
       "\n",
       "    .dataframe thead th {\n",
       "        text-align: right;\n",
       "    }\n",
       "</style>\n",
       "<table border=\"1\" class=\"dataframe\">\n",
       "  <thead>\n",
       "    <tr style=\"text-align: right;\">\n",
       "      <th></th>\n",
       "      <th>Opportunity ID</th>\n",
       "      <th>GPS (Latitude)</th>\n",
       "      <th>GPS (Longitude)</th>\n",
       "      <th>Country</th>\n",
       "      <th>Split</th>\n",
       "    </tr>\n",
       "  </thead>\n",
       "  <tbody>\n",
       "  </tbody>\n",
       "</table>\n",
       "</div>"
      ],
      "text/plain": [
       "Empty DataFrame\n",
       "Columns: [Opportunity ID, GPS (Latitude), GPS (Longitude), Country, Split]\n",
       "Index: []"
      ]
     },
     "execution_count": 23,
     "metadata": {},
     "output_type": "execute_result"
    }
   ],
   "source": [
    "print(\"Threshold: {}\".format(bounds_dict[\"rwanda\"][\"right\"]))\n",
    "rw_ug_df[\n",
    "    (rw_ug_df[\"Country\"] == \"Rwanda\") & (rw_ug_df[lon_name] > bounds_dict[\"rwanda\"][\"right\"])\n",
    "]"
   ]
  },
  {
   "cell_type": "markdown",
   "id": "b6617833",
   "metadata": {
    "heading_collapsed": true,
    "hidden": true
   },
   "source": [
    "## Split positives into train/val/test"
   ]
  },
  {
   "cell_type": "code",
   "execution_count": 24,
   "id": "bf701583",
   "metadata": {
    "hidden": true
   },
   "outputs": [],
   "source": [
    "rw_ug_df.loc[rw_ug_df.Country == \"Uganda\", \"Split\"] = \"test\""
   ]
  },
  {
   "cell_type": "code",
   "execution_count": 25,
   "id": "e9487007",
   "metadata": {
    "hidden": true
   },
   "outputs": [],
   "source": [
    "val_range = get_val_range()"
   ]
  },
  {
   "cell_type": "code",
   "execution_count": 26,
   "id": "9870c15e",
   "metadata": {
    "hidden": true
   },
   "outputs": [],
   "source": [
    "# left, right: Longitude\n",
    "# bottom, top: Latitude\n",
    "rw_ug_df.loc[(rw_ug_df.Country == \"Rwanda\") & (\n",
    "    rw_ug_df[lon_name] < val_range[0]), \"Split\"] = \"train\"\n",
    "rw_ug_df.loc[(rw_ug_df.Country == \"Rwanda\") & (\n",
    "    val_range[0] <= rw_ug_df[lon_name]) & (\n",
    "        rw_ug_df[lon_name] < val_range[1]), \"Split\"] = \"val\"\n",
    "rw_ug_df.loc[(rw_ug_df.Country == \"Rwanda\") & (\n",
    "    val_range[1] <= rw_ug_df[lon_name]), \"Split\"] = \"train\""
   ]
  },
  {
   "cell_type": "code",
   "execution_count": 27,
   "id": "6774c4b7",
   "metadata": {
    "hidden": true
   },
   "outputs": [
    {
     "name": "stdout",
     "output_type": "stream",
     "text": [
      "Train: 1243 Val: 181 Test: 250\n"
     ]
    }
   ],
   "source": [
    "print(\"Train: {} Val: {} Test: {}\".format(\n",
    "    len(rw_ug_df[rw_ug_df.Split == \"train\"]),\n",
    "    len(rw_ug_df[rw_ug_df.Split == \"val\"]),\n",
    "    len(rw_ug_df[rw_ug_df.Split == \"test\"])\n",
    "))"
   ]
  },
  {
   "cell_type": "code",
   "execution_count": 28,
   "id": "501ac7cd",
   "metadata": {
    "hidden": true
   },
   "outputs": [],
   "source": [
    "rw_ug_df.to_csv(\n",
    "    \"../data/ground_truth/training_data_pos.csv\", index=False)"
   ]
  },
  {
   "cell_type": "markdown",
   "id": "f8ee0993",
   "metadata": {
    "heading_collapsed": true,
    "hidden": true
   },
   "source": [
    "## Split negatives into train/val/test"
   ]
  },
  {
   "cell_type": "code",
   "execution_count": 102,
   "id": "6b5520a8",
   "metadata": {
    "hidden": true
   },
   "outputs": [
    {
     "name": "stdout",
     "output_type": "stream",
     "text": [
      "Number of Rwanda data points: 1429\n",
      "Number of Uganda data points: 251\n",
      "{\n",
      "    \"rwanda\": {\n",
      "        \"left\": 28.854442596,\n",
      "        \"bottom\": -2.8255556621111113,\n",
      "        \"right\": 30.893331484888886,\n",
      "        \"top\": -1.054444551\n",
      "    },\n",
      "    \"uganda\": {\n",
      "        \"left\": 29.727706666666666,\n",
      "        \"bottom\": -0.29569133333333336,\n",
      "        \"right\": 30.608246333333334,\n",
      "        \"top\": 0.8944093333333333\n",
      "    }\n",
      "}\n"
     ]
    }
   ],
   "source": [
    "bounds_dict = get_bounds()\n",
    "print(json.dumps(bounds_dict, indent=4))"
   ]
  },
  {
   "cell_type": "code",
   "execution_count": 103,
   "id": "b1d3a45a",
   "metadata": {
    "hidden": true
   },
   "outputs": [
    {
     "name": "stdout",
     "output_type": "stream",
     "text": [
      "Train: 219044 Val: 23235 Test: 112870\n",
      "Train: 175782 Val: 17030 Test: 104934\n",
      "Train: 103489 Val: 6067 Test: 87770\n"
     ]
    }
   ],
   "source": [
    "dtype = {\"left\": float, \"right\": float, \"bottom\": float, \"top\": float}\n",
    "val_range = get_val_range()\n",
    "\n",
    "for tile_size in [300, 600, 1200]:\n",
    "    rwanda_df = pd.read_csv(\n",
    "        \"../data/ground_truth/{}_{}_negatives.csv\".format(\"rwanda\", tile_size),\n",
    "        dtype=dtype)\n",
    "    uganda_df = pd.read_csv(\n",
    "        \"../data/ground_truth/{}_{}_negatives.csv\".format(\"uganda\", tile_size),\n",
    "        dtype=dtype)\n",
    "\n",
    "    assert rwanda_df.left.max() <= bounds_dict[\"rwanda\"][\"right\"]\n",
    "    assert rwanda_df.left.min() >= bounds_dict[\"rwanda\"][\"left\"]\n",
    "    assert rwanda_df.right.max() <= bounds_dict[\"rwanda\"][\"right\"]\n",
    "    assert rwanda_df.right.min() >= bounds_dict[\"rwanda\"][\"left\"]\n",
    "\n",
    "    assert rwanda_df.bottom.max() <= bounds_dict[\"rwanda\"][\"top\"]\n",
    "    assert rwanda_df.bottom.min() >= bounds_dict[\"rwanda\"][\"bottom\"]\n",
    "    assert rwanda_df.top.max() <= bounds_dict[\"rwanda\"][\"top\"]\n",
    "    assert rwanda_df.top.min() >= bounds_dict[\"rwanda\"][\"bottom\"]\n",
    "\n",
    "    assert uganda_df.left.max() <= bounds_dict[\"uganda\"][\"right\"]\n",
    "    assert uganda_df.left.min() >= bounds_dict[\"uganda\"][\"left\"]\n",
    "    assert uganda_df.right.max() <= bounds_dict[\"uganda\"][\"right\"]\n",
    "    assert uganda_df.right.min() >= bounds_dict[\"uganda\"][\"left\"]\n",
    "\n",
    "    assert uganda_df.bottom.max() <= bounds_dict[\"uganda\"][\"top\"]\n",
    "    assert uganda_df.bottom.min() >= bounds_dict[\"uganda\"][\"bottom\"]\n",
    "    assert uganda_df.top.max() <= bounds_dict[\"uganda\"][\"top\"]\n",
    "    assert uganda_df.top.min() >= bounds_dict[\"uganda\"][\"bottom\"]\n",
    "\n",
    "    rwanda_df[\"Country\"] = \"Rwanda\"\n",
    "    uganda_df[\"Country\"] = \"Uganda\"\n",
    "    neg_df = pd.concat([rwanda_df, uganda_df])\n",
    "    neg_df.reset_index(drop=True, inplace=True)\n",
    "    neg_df[\"Split\"] = \"\"\n",
    "    \n",
    "    neg_df.loc[neg_df.Country == \"Uganda\", \"Split\"] = \"test\"\n",
    "\n",
    "    neg_df.loc[(neg_df.Country == \"Rwanda\") & (\n",
    "        neg_df.right < val_range[0]), \"Split\"] = \"train\"\n",
    "    neg_df.loc[(neg_df.Country == \"Rwanda\") & (\n",
    "        val_range[0] <= neg_df.left) & (\n",
    "            neg_df.right < val_range[1]), \"Split\"] = \"val\"\n",
    "    neg_df.loc[(neg_df.Country == \"Rwanda\") & (\n",
    "        val_range[1] <= neg_df.left), \"Split\"] = \"train\"\n",
    "\n",
    "    print(\"Train: {} Val: {} Test: {}\".format(\n",
    "        len(neg_df[neg_df.Split == \"train\"]),\n",
    "        len(neg_df[neg_df.Split == \"val\"]),\n",
    "        len(neg_df[neg_df.Split == \"test\"])\n",
    "    ))\n",
    "    \n",
    "    neg_df.to_csv(\n",
    "        \"../data/ground_truth/training_data_neg_{}.csv\".format(tile_size),\n",
    "        index=False)"
   ]
  },
  {
   "cell_type": "markdown",
   "id": "7104a8bd",
   "metadata": {
    "hidden": true
   },
   "source": [
    "## Merge pos and negatives"
   ]
  },
  {
   "cell_type": "code",
   "execution_count": 75,
   "id": "49b16034",
   "metadata": {
    "hidden": true
   },
   "outputs": [],
   "source": [
    "for tile_size in [300, 600, 1200]:\n",
    "    rw_ug_df = pd.read_csv(\n",
    "        \"../data/ground_truth/training_data_pos.csv\")\n",
    "    neg_df = pd.read_csv(\n",
    "        \"../data/ground_truth/training_data_neg_{}.csv\".format(tile_size))\n",
    "    rw_ug_df[\"left\"] = None\n",
    "    rw_ug_df[\"right\"] = None\n",
    "    rw_ug_df[\"bottom\"] = None\n",
    "    rw_ug_df[\"top\"] = None\n",
    "    rw_ug_df[\"pos_neg\"] = \"pos\"\n",
    "\n",
    "    neg_df[\"GPS (Latitude)\"] = None\n",
    "    neg_df[\"GPS (Longitude)\"] = None\n",
    "    neg_df[\"pos_neg\"] = \"neg\"\n",
    "    \n",
    "    df = pd.concat([rw_ug_df, neg_df])\n",
    "    df.reset_index(drop=True, inplace=True)\n",
    "    df.to_csv(\n",
    "        \"../data/ground_truth/training_data_{}.csv\".format(tile_size),\n",
    "        index=False)"
   ]
  },
  {
   "cell_type": "markdown",
   "id": "7adcc8c3",
   "metadata": {
    "heading_collapsed": true,
    "hidden": true
   },
   "source": [
    "## Calculate means and stds of each datasets"
   ]
  },
  {
   "cell_type": "code",
   "execution_count": 95,
   "id": "d5e93ceb",
   "metadata": {
    "hidden": true
   },
   "outputs": [],
   "source": [
    "MEAN_STD = {\n",
    "    \"osm_imgs_mean\": [228.9456722483024, 232.141690104963, 220.64054439337642],\n",
    "    \"osm_imgs_std\": [25.0031179831636, 14.698174522550094, 25.432728714568253],\n",
    "    \"pop_mean\": [12.024757385253906],\n",
    "    \"pop_std\": [15.575993537902832],\n",
    "    \"slope_mean\": [],\n",
    "    \"slope_std\": [],\n",
    "    \"elevation_mean\": [],\n",
    "    \"elevation_std\": []\n",
    "}"
   ]
  },
  {
   "cell_type": "markdown",
   "id": "45198920",
   "metadata": {
    "hidden": true
   },
   "source": [
    "### Elevation"
   ]
  },
  {
   "cell_type": "code",
   "execution_count": 96,
   "id": "bdf7f32f",
   "metadata": {
    "hidden": true
   },
   "outputs": [
    {
     "name": "stdout",
     "output_type": "stream",
     "text": [
      "Elevation\n",
      "\n",
      "Mean: 220.90135321668626 Std: 9.3889976864778\n"
     ]
    },
    {
     "data": {
      "image/png": "[encoded data removed]",
      "text/plain": [
       "<Figure size 432x288 with 1 Axes>"
      ]
     },
     "metadata": {
      "needs_background": "light"
     },
     "output_type": "display_data"
    }
   ],
   "source": [
    "src_rw = rasterio.open(\"../data/slope_elevation/elevation_rwanda.tif\")\n",
    "src_ug = rasterio.open(\"../data/slope_elevation/elevation_uganda.tif\")\n",
    "\n",
    "assert np.unique(src_rw.read(1)).tolist() == [0, 255]\n",
    "assert np.unique(src_ug.read(1)).tolist() == [0, 255]\n",
    "\n",
    "assert np.all(src_rw.read(2) == src_rw.read(3))\n",
    "assert np.all(src_ug.read(2) == src_ug.read(3))\n",
    "\n",
    "plt.imshow(src_rw.read(1))\n",
    "\n",
    "valid_elevation = np.concatenate((\n",
    "    src_rw.read(2).flatten()[src_rw.read(1).flatten() == 255],\n",
    "    src_ug.read(2).flatten()[src_ug.read(1).flatten() == 255]))\n",
    "\n",
    "mean_elevation = np.mean(valid_elevation)\n",
    "std_elevation = np.std(valid_elevation)\n",
    "print(\"Elevation\\n\")\n",
    "print(\"Mean: {} Std: {}\".format(mean_elevation, std_elevation))"
   ]
  },
  {
   "cell_type": "code",
   "execution_count": 97,
   "id": "5b79e926",
   "metadata": {
    "hidden": true
   },
   "outputs": [
    {
     "name": "stdout",
     "output_type": "stream",
     "text": [
      "Slope\n",
      "\n",
      "Mean: 241.3060780142587 Std: 17.980819167026993\n"
     ]
    },
    {
     "data": {
      "image/png": "[encoded data removed]",
      "text/plain": [
       "<Figure size 432x288 with 1 Axes>"
      ]
     },
     "metadata": {
      "needs_background": "light"
     },
     "output_type": "display_data"
    }
   ],
   "source": [
    "src_rw = rasterio.open(\"../data/slope_elevation/slope_rwanda.tif\")\n",
    "src_ug = rasterio.open(\"../data/slope_elevation/slope_uganda.tif\")\n",
    "\n",
    "assert np.unique(src_rw.read(1)).tolist() == [0, 255]\n",
    "assert np.unique(src_ug.read(1)).tolist() == [0, 255]\n",
    "\n",
    "assert np.all(src_rw.read(2) == src_rw.read(3))\n",
    "assert np.all(src_ug.read(2) == src_ug.read(3))\n",
    "\n",
    "plt.imshow(src_rw.read(1))\n",
    "\n",
    "valid_slope = np.concatenate((\n",
    "    src_rw.read(2).flatten()[src_rw.read(1).flatten() == 255],\n",
    "    src_ug.read(2).flatten()[src_ug.read(1).flatten() == 255]))\n",
    "\n",
    "mean_slope = np.mean(valid_slope)\n",
    "std_slope = np.std(valid_slope)\n",
    "\n",
    "print(\"Slope\\n\")\n",
    "print(\"Mean: {} Std: {}\".format(mean_slope, std_slope))"
   ]
  },
  {
   "cell_type": "markdown",
   "id": "98f9d533",
   "metadata": {
    "hidden": true
   },
   "source": [
    "### Population"
   ]
  },
  {
   "cell_type": "code",
   "execution_count": 98,
   "id": "d65c716a",
   "metadata": {
    "hidden": true
   },
   "outputs": [],
   "source": [
    "src_ug = rasterio.open(\n",
    "    \"../data/population/Uganda_population_data_2020_UNadj_constrained.tif\")\n",
    "src_rw = rasterio.open(\n",
    "    \"../data/population/Rwanda_population_data_2020_UNadj_constrained.tif\")\n"
   ]
  },
  {
   "cell_type": "code",
   "execution_count": 99,
   "id": "9b8db96c",
   "metadata": {
    "hidden": true
   },
   "outputs": [
    {
     "name": "stdout",
     "output_type": "stream",
     "text": [
      "Population\n",
      "Mean: 12.024757385253906 Std: 15.575993537902832\n"
     ]
    }
   ],
   "source": [
    "pop_data = np.concatenate((\n",
    "    src_ug.read(1)[src_ug.read(1) >= 0].flatten(),\n",
    "    src_rw.read(1)[src_rw.read(1) >= 0].flatten()))\n",
    "mean_pop = np.mean(pop_data)\n",
    "std_pop = np.std(pop_data)\n",
    "print(\"Population\")\n",
    "print(\"Mean: {} Std: {}\".format(mean_pop, std_pop))"
   ]
  },
  {
   "cell_type": "markdown",
   "id": "a2933795",
   "metadata": {
    "hidden": true
   },
   "source": [
    "### OSM images"
   ]
  },
  {
   "cell_type": "code",
   "execution_count": 100,
   "id": "1349aac5",
   "metadata": {
    "hidden": true
   },
   "outputs": [],
   "source": [
    "src_rw = rasterio.open(\"../data/osm/imgs/rwanda_osm_nolab_1-50000.tiff\")\n",
    "src_ug = rasterio.open(\"../data/osm/imgs/uganda_train_osm_nolab_1-50000.tiff\")"
   ]
  },
  {
   "cell_type": "code",
   "execution_count": 101,
   "id": "a90b5be8",
   "metadata": {
    "hidden": true
   },
   "outputs": [
    {
     "name": "stdout",
     "output_type": "stream",
     "text": [
      "Mean: [228.9456722483024, 232.141690104963, 220.64054439337642] Std: [25.0031179831636, 14.698174522550094, 25.432728714568253]\n"
     ]
    }
   ],
   "source": [
    "c1 = np.concatenate((src_rw.read(1).flatten(), src_ug.read(1).flatten()))\n",
    "c2 = np.concatenate((src_rw.read(2).flatten(), src_ug.read(2).flatten()))\n",
    "c3 = np.concatenate((src_rw.read(3).flatten(), src_ug.read(3).flatten()))\n",
    "mean_imgs = [np.mean(c1), np.mean(c2), np.mean(c3)]\n",
    "std_imgs = [np.std(c1), np.std(c2), np.std(c3)]\n",
    "print(\"Mean: {} Std: {}\".format(mean_imgs, std_imgs))"
   ]
  },
  {
   "cell_type": "markdown",
   "id": "2de0c780",
   "metadata": {},
   "source": [
    "# Pytorch"
   ]
  },
  {
   "cell_type": "markdown",
   "id": "dd58b967",
   "metadata": {},
   "source": [
    "## Dataset loader"
   ]
  },
  {
   "cell_type": "code",
   "execution_count": 130,
   "id": "9f2203e6",
   "metadata": {},
   "outputs": [],
   "source": [
    "TRAIN_METADATA = {\n",
    "    \"Rwanda\": {\n",
    "        \"population\": {\n",
    "            \"fp\": (\"../data/population/\"\n",
    "                   \"Rwanda_population_data_2020_UNadj_constrained.tif\"),\n",
    "            \"raster_channels\": [1]\n",
    "        },\n",
    "        \"osm_imgs\": {\n",
    "            \"fp\": \"../data/osm/imgs/rwanda_osm_nolab_1-50000_4326.tiff\",\n",
    "            \"raster_channels\": [1, 2, 3]\n",
    "        },\n",
    "        \"elevation\": {\n",
    "            \"fp\": \"../data/slope_elevation/elevation_rwanda.tif\",\n",
    "            \"raster_channels\": [2]\n",
    "        },\n",
    "        \"slope\": {\n",
    "            \"fp\": \"../data/slope_elevation/slope_rwanda.tif\",\n",
    "            \"raster_channels\": [2]\n",
    "        }\n",
    "    },\n",
    "    \"Uganda\": {\n",
    "        \"population\": {\n",
    "            \"fp\": (\"../data/population/\"\n",
    "                   \"Uganda_population_data_2020_UNadj_constrained.tif\"),\n",
    "            \"raster_channels\": [1]\n",
    "        },\n",
    "        \"osm_imgs\": {\n",
    "            \"fp\": \"../data/osm/imgs/uganda_train_osm_nolab_1-50000_4326.tiff\",\n",
    "            \"raster_channels\": [1, 2, 3]\n",
    "        },\n",
    "        \"elevation\": {\n",
    "            \"fp\": \"../data/slope_elevation/elevation_uganda.tif\",\n",
    "            \"raster_channels\": [2]\n",
    "        },\n",
    "        \"slope\": {\n",
    "            \"fp\": \"../data/slope_elevation/slope_uganda.tif\",\n",
    "            \"raster_channels\": [2]\n",
    "        }\n",
    "    },\n",
    "}\n",
    "\n",
    "OUTPUT_SIZE = {300: (12, 12), 600: (24, 24), 1200: (48, 48)}\n",
    "DATA_ORDER = [\"population\", \"osm_imgs\", \"elevation\", \"slope\"]\n",
    "\n",
    "TRAINING_DATA = {\n",
    "    300: \"../data/ground_truth/training_data_300.csv\",\n",
    "    600: \"../data/ground_truth/training_data_600.csv\",\n",
    "    1200: \"../data/ground_truth/training_data_1200.csv\"\n",
    "}\n",
    "DTYPE = {\n",
    "    \"Opportunity ID\": str,\n",
    "    \"GPS (Latitude)\": float, \n",
    "    \"GPS (Longitude)\": float, \n",
    "    \"Country\": str,\n",
    "    \"Split\": str, \n",
    "    \"left\": float, \n",
    "    \"right\": float,\n",
    "    \"bottom\": float, \n",
    "    \"top\": float,\n",
    "    \"pos_neg\": str\n",
    "}"
   ]
  },
  {
   "cell_type": "code",
   "execution_count": 134,
   "id": "2b03b1e7",
   "metadata": {
    "code_folding": [
     81
    ]
   },
   "outputs": [],
   "source": [
    "class BridgeDataset(Dataset):\n",
    "    def __init__(self, tile_size=300, use_rnd_pos=False, transform=False):\n",
    "        assert tile_size in [300, 600, 1200], \"Tile size not known\"\n",
    "        \n",
    "        self.tile_size = tile_size\n",
    "        self.training_data = pd.read_csv(\n",
    "            TRAINING_DATA[tile_size],\n",
    "            dtype=DTYPE\n",
    "        )\n",
    "        self.data_rasters = {}\n",
    "        for country, data_modalities in TRAIN_METADATA.items():\n",
    "            if country not in self.data_rasters:\n",
    "                self.data_rasters[country] = {}\n",
    "            for data_type, data in data_modalities.items():\n",
    "                self.data_rasters[country][data_type] = rasterio.open(\n",
    "                    data[\"fp\"])\n",
    "        \n",
    "        self.geod = Geodesic.WGS84\n",
    "        self.use_rnd_pos = use_rnd_pos\n",
    "        self.transform = transform\n",
    "    \n",
    "    def shift_coords(self, lon, lat):\n",
    "        lat_shift, lon_shift = np.clip(\n",
    "            np.random.normal(\n",
    "                loc=0.0, scale=(self.tile_size - 50) / 4, size=2\n",
    "            ),\n",
    "            - (self.tile_size - 50) / 2, \n",
    "            (self.tile_size - 50) / 2\n",
    "        ).tolist()\n",
    "        if lat_shift < 0:\n",
    "            lat_shift_degree = 180\n",
    "        else:\n",
    "            lat_shift_degree = 0\n",
    "        if lon_shift < 0:\n",
    "            lon_shift_degree = 90\n",
    "        else:\n",
    "            lon_shift_degree = -90\n",
    "        lat_shifted = self.geod.Direct(lat, lon, lat_shift_degree, lat_shift)\n",
    "        new_lat, new_lon = lat_shifted[\"lat2\"], lat_shifted[\"lon2\"]\n",
    "        lon_shifted = self.geod.Direct(\n",
    "            new_lat, new_lon, lon_shift_degree, lat_shift)\n",
    "        new_lat, new_lon = lon_shifted[\"lat2\"], lon_shifted[\"lon2\"]\n",
    "        return new_lon, new_lat\n",
    "\n",
    "    def __getitem__(self, idx):\n",
    "        # get dataset entry\n",
    "        entry = self.training_data.iloc[idx]\n",
    "        country = entry.Country\n",
    "        # positives \n",
    "        if entry.pos_neg == \"pos\":\n",
    "            label = 1\n",
    "            lon, lat = entry[\"GPS (Longitude)\"], entry[\"GPS (Latitude)\"]\n",
    "            if self.use_rnd_pos:\n",
    "                lon, lat = self.shift_coords(lon, lat)\n",
    "            # coordinates of area with size tile_size\n",
    "            area_coords = get_square_area(\n",
    "                lon, lat, square_length=self.tile_size)\n",
    "            # get left = lat, bottom = lon, right = lat, top = lon\n",
    "            left = min([ac[0] for ac in area_coords])\n",
    "            bottom = min([ac[1] for ac in area_coords])\n",
    "            right = max([ac[0] for ac in area_coords])\n",
    "            top = max([ac[1] for ac in area_coords])\n",
    "        elif entry.pos_neg == \"neg\":\n",
    "            label = 0\n",
    "            left = entry.left\n",
    "            right = entry.right\n",
    "            bottom = entry.bottom\n",
    "            top = entry.top\n",
    "        else:\n",
    "            raise NotImplementedError\n",
    "        imgs = []\n",
    "        for data_name in DATA_ORDER:\n",
    "            raster = self.data_rasters[country][data_name]\n",
    "            window = windows.from_bounds(\n",
    "                left, bottom, right, top, raster.transform)\n",
    "            for c in TRAIN_METADATA[country][data_name][\"raster_channels\"]:\n",
    "                r = raster.read(\n",
    "                    c, window=window, out_shape=OUTPUT_SIZE[self.tile_size])\n",
    "                imgs.append(np.expand_dims(r, -1))\n",
    "                    \n",
    "        return np.abs(np.concatenate(imgs, -1))\n",
    "\n",
    "    def __len__(self):\n",
    "        return len(self.training_data)"
   ]
  },
  {
   "cell_type": "code",
   "execution_count": 144,
   "id": "dc9de4c3",
   "metadata": {},
   "outputs": [],
   "source": [
    "bds = BridgeDataset(1200)"
   ]
  },
  {
   "cell_type": "code",
   "execution_count": 145,
   "id": "668e38d4",
   "metadata": {
    "scrolled": true
   },
   "outputs": [
    {
     "data": {
      "image/png": "[encoded data removed]",
      "text/plain": [
       "<Figure size 432x288 with 4 Axes>"
      ]
     },
     "metadata": {
      "needs_background": "light"
     },
     "output_type": "display_data"
    },
    {
     "data": {
      "image/png": "[encoded data removed]",
      "text/plain": [
       "<Figure size 432x288 with 4 Axes>"
      ]
     },
     "metadata": {
      "needs_background": "light"
     },
     "output_type": "display_data"
    },
    {
     "data": {
      "image/png": "[encoded data removed]",
      "text/plain": [
       "<Figure size 432x288 with 4 Axes>"
      ]
     },
     "metadata": {
      "needs_background": "light"
     },
     "output_type": "display_data"
    },
    {
     "data": {
      "image/png": "[encoded data removed]",
      "text/plain": [
       "<Figure size 432x288 with 4 Axes>"
      ]
     },
     "metadata": {
      "needs_background": "light"
     },
     "output_type": "display_data"
    },
    {
     "data": {
      "image/png": "[encoded data removed]",
      "text/plain": [
       "<Figure size 432x288 with 4 Axes>"
      ]
     },
     "metadata": {
      "needs_background": "light"
     },
     "output_type": "display_data"
    },
    {
     "data": {
      "image/png": "[encoded data removed]",
      "text/plain": [
       "<Figure size 432x288 with 4 Axes>"
      ]
     },
     "metadata": {
      "needs_background": "light"
     },
     "output_type": "display_data"
    },
    {
     "data": {
      "image/png": "[encoded data removed]",
      "text/plain": [
       "<Figure size 432x288 with 4 Axes>"
      ]
     },
     "metadata": {
      "needs_background": "light"
     },
     "output_type": "display_data"
    },
    {
     "data": {
      "image/png": "[encoded data removed]",
      "text/plain": [
       "<Figure size 432x288 with 4 Axes>"
      ]
     },
     "metadata": {
      "needs_background": "light"
     },
     "output_type": "display_data"
    },
    {
     "data": {
      "image/png": "[encoded data removed]",
      "text/plain": [
       "<Figure size 432x288 with 4 Axes>"
      ]
     },
     "metadata": {
      "needs_background": "light"
     },
     "output_type": "display_data"
    },
    {
     "data": {
      "image/png": "[encoded data removed]",
      "text/plain": [
       "<Figure size 432x288 with 4 Axes>"
      ]
     },
     "metadata": {
      "needs_background": "light"
     },
     "output_type": "display_data"
    }
   ],
   "source": [
    "for _ in range(10):\n",
    "    i = np.random.choice(len(bds))\n",
    "    imgs = bds[i]\n",
    "    fig, axes = plt.subplots(1, 4)\n",
    "    axes[0].imshow(imgs[:, :, 1:4].astype(int))\n",
    "    axes[0].set_title(\"OSM Image\")\n",
    "    axes[1].imshow(\n",
    "        imgs[:, :, 0:1].astype(int), vmin=0, vmax=100, cmap=\"Purples\")\n",
    "    axes[1].set_title(\"Population\")\n",
    "    axes[2].imshow(\n",
    "        imgs[:, :, 4:5].astype(int), cmap=\"Reds\")\n",
    "    axes[2].set_title(\"Elevation\")\n",
    "    axes[3].imshow(\n",
    "        imgs[:, :, 5:].astype(int), cmap=\"Blues\")\n",
    "    axes[3].set_title(\"Slope\")"
   ]
  },
  {
   "cell_type": "markdown",
   "id": "b25666d9",
   "metadata": {},
   "source": [
    "## Sampler"
   ]
  },
  {
   "cell_type": "code",
   "execution_count": 140,
   "id": "a0116f9d",
   "metadata": {},
   "outputs": [],
   "source": [
    "class BridgeLocationSampler(Sampler):\n",
    "    def __init__(self, tile_size=300) -> None:\n",
    "        \n",
    "    def num_samples(self) -> int:\n",
    "        return\n",
    "    def __iter__(self) -> Iterator[int]:\n",
    "        yield from iter(rand_tensor.tolist())"
   ]
  }
 ],
 "metadata": {
  "kernelspec": {
   "display_name": "Python 3 (ipykernel)",
   "language": "python",
   "name": "python3"
  },
  "language_info": {
   "codemirror_mode": {
    "name": "ipython",
    "version": 3
   },
   "file_extension": ".py",
   "mimetype": "text/x-python",
   "name": "python",
   "nbconvert_exporter": "python",
   "pygments_lexer": "ipython3",
   "version": "3.7.11"
  }
 },
 "nbformat": 4,
 "nbformat_minor": 5
}
