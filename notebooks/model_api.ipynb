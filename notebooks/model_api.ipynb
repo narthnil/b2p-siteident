{
 "cells": [
  {
   "cell_type": "code",
   "execution_count": 1,
   "id": "3a543a2f",
   "metadata": {
    "ExecuteTime": {
     "end_time": "2022-02-04T15:03:58.024906Z",
     "start_time": "2022-02-04T15:03:57.995505Z"
    }
   },
   "outputs": [],
   "source": [
    "%load_ext autoreload\n",
    "%autoreload 2"
   ]
  },
  {
   "cell_type": "code",
   "execution_count": 2,
   "id": "b5757d4f",
   "metadata": {
    "ExecuteTime": {
     "end_time": "2022-02-04T15:03:58.651044Z",
     "start_time": "2022-02-04T15:03:58.631906Z"
    }
   },
   "outputs": [],
   "source": [
    "import sys\n",
    "sys.path.append(\"..\")"
   ]
  },
  {
   "cell_type": "code",
   "execution_count": 7,
   "id": "74cbce0b",
   "metadata": {
    "ExecuteTime": {
     "end_time": "2022-02-04T15:04:54.633168Z",
     "start_time": "2022-02-04T15:04:54.592880Z"
    }
   },
   "outputs": [],
   "source": [
    "import torch\n",
    "from src.models import BridgeResnet\n",
    "import os\n",
    "import json\n",
    "from torch.nn import Softmax\n",
    "import matplotlib.pyplot as plt\n",
    "from shapely.geometry import Point\n",
    "from notebooks.utils import (get_training_parameters, get_prediction_information, \n",
    "                             load_model, get_file_paths_from_notebook_directory, plot_sample)\n",
    "from src.data import map_indices_to_modalities"
   ]
  },
  {
   "cell_type": "markdown",
   "id": "85890dac",
   "metadata": {},
   "source": [
    "# Load model"
   ]
  },
  {
   "cell_type": "code",
   "execution_count": 4,
   "id": "a9b5a071",
   "metadata": {
    "ExecuteTime": {
     "end_time": "2022-02-04T15:04:03.974660Z",
     "start_time": "2022-02-04T15:04:03.936230Z"
    }
   },
   "outputs": [],
   "source": [
    "### Replace with desired save_dir\n",
    "MODEL_DIR = \"../results/resnet50-1200\""
   ]
  },
  {
   "cell_type": "code",
   "execution_count": 5,
   "id": "d17b3a1d",
   "metadata": {
    "ExecuteTime": {
     "end_time": "2022-02-04T15:04:07.998204Z",
     "start_time": "2022-02-04T15:04:07.958461Z"
    }
   },
   "outputs": [],
   "source": [
    "MODEL_PATH = os.path.join(MODEL_DIR, \"best.pt\")"
   ]
  },
  {
   "cell_type": "code",
   "execution_count": 8,
   "id": "c0d6f59c",
   "metadata": {
    "ExecuteTime": {
     "end_time": "2022-02-04T15:04:56.635575Z",
     "start_time": "2022-02-04T15:04:56.593817Z"
    }
   },
   "outputs": [],
   "source": [
    "parameters = get_training_parameters(MODEL_DIR)\n",
    "model_name = parameters.get(\"model\")\n",
    "data_modalities = parameters.get(\"data_modalities\")\n",
    "modalities = map_indices_to_modalities(data_modalities)\n",
    "num_channels = len(modalities)"
   ]
  },
  {
   "cell_type": "code",
   "execution_count": 9,
   "id": "73a2ddcb",
   "metadata": {
    "ExecuteTime": {
     "end_time": "2022-02-04T15:04:58.991305Z",
     "start_time": "2022-02-04T15:04:57.998730Z"
    }
   },
   "outputs": [],
   "source": [
    "model = load_model(model_name, MODEL_PATH, num_channels)"
   ]
  },
  {
   "cell_type": "markdown",
   "id": "dc26ec62",
   "metadata": {},
   "source": [
    "# Make Inference in Rwanda"
   ]
  },
  {
   "cell_type": "code",
   "execution_count": 10,
   "id": "bc00c94c",
   "metadata": {
    "ExecuteTime": {
     "end_time": "2022-02-04T15:05:03.571686Z",
     "start_time": "2022-02-04T15:05:03.533778Z"
    }
   },
   "outputs": [],
   "source": [
    "import geopandas as gpd\n",
    "from src.data import BridgeDataset\n",
    "from src.data import METADATA, TRAIN_DATA, get_dataloaders, DATA_ORDER, map_indices_to_modalities"
   ]
  },
  {
   "cell_type": "code",
   "execution_count": 11,
   "id": "fe307a4e",
   "metadata": {
    "ExecuteTime": {
     "end_time": "2022-02-04T15:05:05.445299Z",
     "start_time": "2022-02-04T15:05:05.311942Z"
    }
   },
   "outputs": [],
   "source": [
    "rwanda_mask = gpd.read_file(\"../data/country_masks/rwanda.shp\")\n",
    "rwanda_polygon = rwanda_mask.geometry[0]\n",
    "rwanda_representative_point = rwanda_polygon.representative_point()"
   ]
  },
  {
   "cell_type": "code",
   "execution_count": 12,
   "id": "4a921598",
   "metadata": {
    "ExecuteTime": {
     "end_time": "2022-02-04T15:05:07.564872Z",
     "start_time": "2022-02-04T15:05:07.527492Z"
    }
   },
   "outputs": [],
   "source": [
    "train_data, metadata, stats_fp = get_file_paths_from_notebook_directory()"
   ]
  },
  {
   "cell_type": "code",
   "execution_count": 13,
   "id": "fb7db569",
   "metadata": {
    "ExecuteTime": {
     "end_time": "2022-02-04T15:05:08.604642Z",
     "start_time": "2022-02-04T15:05:08.112814Z"
    }
   },
   "outputs": [],
   "source": [
    "data = BridgeDataset(data=train_data, raster_data=metadata, stats_fp=stats_fp)"
   ]
  },
  {
   "cell_type": "code",
   "execution_count": 14,
   "id": "8317a340",
   "metadata": {
    "ExecuteTime": {
     "end_time": "2022-02-04T15:05:56.419036Z",
     "start_time": "2022-02-04T15:05:56.377605Z"
    }
   },
   "outputs": [],
   "source": [
    "def inference_rwanda(model, lon, lat):\n",
    "    point = Point(lon, lat)\n",
    "    if not rwanda_polygon.contains(point):\n",
    "        raise Exception(f\"Point lat: {lat} lon: {lon} not in Rwanda boundaries.\")\n",
    "    input_channels, label = data.get_item_from_lon_lat(lon, lat, \"Rwanda\")\n",
    "    prediction, prediction_probabilities = get_prediction_information(model, input_channels)\n",
    "    print(f\"Prediction: {prediction}\")\n",
    "    print(f\"NO prediction probability %.2f\"%prediction_probabilities[0])\n",
    "    print(f\"YES prediction probability %.2f\"%prediction_probabilities[1])\n",
    "    plot_sample(input_channels[0], modalities)"
   ]
  },
  {
   "cell_type": "code",
   "execution_count": 41,
   "id": "cbc932bb",
   "metadata": {
    "ExecuteTime": {
     "end_time": "2022-02-04T15:16:55.076665Z",
     "start_time": "2022-02-04T15:16:54.234810Z"
    }
   },
   "outputs": [
    {
     "name": "stdout",
     "output_type": "stream",
     "text": [
      "Prediction: 0\n",
      "NO prediction probability 0.52\n",
      "YES prediction probability 0.48\n"
     ]
    },
    {
     "data": {
      "image/png": "[encoded data removed]",
      "text/plain": [
       "<Figure size 864x360 with 3 Axes>"
      ]
     },
     "metadata": {
      "needs_background": "light"
     },
     "output_type": "display_data"
    },
    {
     "data": {
      "image/png": "[encoded data removed]",
      "text/plain": [
       "<Figure size 864x360 with 3 Axes>"
      ]
     },
     "metadata": {
      "needs_background": "light"
     },
     "output_type": "display_data"
    },
    {
     "data": {
      "image/png": "[encoded data removed]",
      "text/plain": [
       "<Figure size 864x360 with 3 Axes>"
      ]
     },
     "metadata": {
      "needs_background": "light"
     },
     "output_type": "display_data"
    }
   ],
   "source": [
    "inference_rwanda(model, rwanda_representative_point.x - 0.05, rwanda_representative_point.y + .17)"
   ]
  },
  {
   "cell_type": "code",
   "execution_count": 72,
   "id": "ecdf4571",
   "metadata": {
    "ExecuteTime": {
     "end_time": "2022-02-03T00:58:33.188095Z",
     "start_time": "2022-02-03T00:58:32.454760Z"
    }
   },
   "outputs": [
    {
     "name": "stdout",
     "output_type": "stream",
     "text": [
      "Prediction: 1\n",
      "NO prediction probability 0.48\n",
      "YES prediction probability 0.52\n"
     ]
    },
    {
     "data": {
      "image/png": "[encoded data removed]",
      "text/plain": [
       "<Figure size 864x360 with 3 Axes>"
      ]
     },
     "metadata": {
      "needs_background": "light"
     },
     "output_type": "display_data"
    },
    {
     "data": {
      "image/png": "[encoded data removed]",
      "text/plain": [
       "<Figure size 864x360 with 3 Axes>"
      ]
     },
     "metadata": {
      "needs_background": "light"
     },
     "output_type": "display_data"
    },
    {
     "data": {
      "image/png": "[encoded data removed]",
      "text/plain": [
       "<Figure size 864x360 with 3 Axes>"
      ]
     },
     "metadata": {
      "needs_background": "light"
     },
     "output_type": "display_data"
    }
   ],
   "source": [
    "inference_rwanda(model, rwanda_representative_point.x - 0.5, rwanda_representative_point.y)"
   ]
  },
  {
   "cell_type": "code",
   "execution_count": null,
   "id": "1b216869",
   "metadata": {},
   "outputs": [],
   "source": []
  }
 ],
 "metadata": {
  "kernelspec": {
   "display_name": "Python 3 (ipykernel)",
   "language": "python",
   "name": "python3"
  },
  "language_info": {
   "codemirror_mode": {
    "name": "ipython",
    "version": 3
   },
   "file_extension": ".py",
   "mimetype": "text/x-python",
   "name": "python",
   "nbconvert_exporter": "python",
   "pygments_lexer": "ipython3",
   "version": "3.7.11"
  }
 },
 "nbformat": 4,
 "nbformat_minor": 5
}
