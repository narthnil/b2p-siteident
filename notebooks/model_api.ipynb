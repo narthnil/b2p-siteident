{
 "cells": [
  {
   "cell_type": "code",
   "execution_count": 1,
   "id": "c4c7b862",
   "metadata": {
    "ExecuteTime": {
     "end_time": "2022-02-03T00:11:39.011137Z",
     "start_time": "2022-02-03T00:11:38.979724Z"
    }
   },
   "outputs": [],
   "source": [
    "%load_ext autoreload\n",
    "%autoreload 2"
   ]
  },
  {
   "cell_type": "code",
   "execution_count": 2,
   "id": "037cbe16",
   "metadata": {
    "ExecuteTime": {
     "end_time": "2022-02-03T00:11:39.275318Z",
     "start_time": "2022-02-03T00:11:39.259534Z"
    }
   },
   "outputs": [],
   "source": [
    "import sys\n",
    "sys.path.append(\"..\")"
   ]
  },
  {
   "cell_type": "code",
   "execution_count": 57,
   "id": "a445ad4a",
   "metadata": {
    "ExecuteTime": {
     "end_time": "2022-02-03T00:49:07.485748Z",
     "start_time": "2022-02-03T00:49:07.443040Z"
    }
   },
   "outputs": [],
   "source": [
    "import torch\n",
    "from src.models import BridgeResnet\n",
    "import os\n",
    "import json\n",
    "from torch.nn import Softmax\n",
    "import matplotlib.pyplot as plt\n",
    "from shapely.geometry import Point\n",
    "from notebooks.utils import (get_training_parameters, get_prediction_information, \n",
    "                             load_model, get_file_paths_from_notebook_directory, plot_sample)"
   ]
  },
  {
   "cell_type": "markdown",
   "id": "9bab25f5",
   "metadata": {},
   "source": [
    "# Load model"
   ]
  },
  {
   "cell_type": "code",
   "execution_count": 4,
   "id": "134c4421",
   "metadata": {
    "ExecuteTime": {
     "end_time": "2022-02-03T00:11:41.775506Z",
     "start_time": "2022-02-03T00:11:41.738499Z"
    }
   },
   "outputs": [],
   "source": [
    "### Replace with desired save_dir\n",
    "MODEL_DIR = \"../results/resnet50-1200\""
   ]
  },
  {
   "cell_type": "code",
   "execution_count": 34,
   "id": "23f4a762",
   "metadata": {
    "ExecuteTime": {
     "end_time": "2022-02-03T00:32:56.698928Z",
     "start_time": "2022-02-03T00:32:56.408820Z"
    }
   },
   "outputs": [],
   "source": [
    "MODEL_PATH = os.path.join(MODEL_DIR, \"best.pt\")"
   ]
  },
  {
   "cell_type": "code",
   "execution_count": 45,
   "id": "7529ad19",
   "metadata": {
    "ExecuteTime": {
     "end_time": "2022-02-03T00:45:22.264924Z",
     "start_time": "2022-02-03T00:45:22.228788Z"
    }
   },
   "outputs": [],
   "source": [
    "parameters = get_training_parameters(MODEL_DIR)\n",
    "model_name = parameters.get(\"model\")\n",
    "data_modalities = parameters.get(\"data_modalities\")\n",
    "modalities = map_indices_to_modalities(data_modalities)\n",
    "num_channels = len(modalities)"
   ]
  },
  {
   "cell_type": "code",
   "execution_count": 47,
   "id": "e38a155d",
   "metadata": {
    "ExecuteTime": {
     "end_time": "2022-02-03T00:45:34.219859Z",
     "start_time": "2022-02-03T00:45:33.623331Z"
    }
   },
   "outputs": [],
   "source": [
    "model = load_model(model_name, MODEL_PATH, num_channels)"
   ]
  },
  {
   "cell_type": "markdown",
   "id": "c57cedec",
   "metadata": {},
   "source": [
    "# Make Inference in Rwanda"
   ]
  },
  {
   "cell_type": "code",
   "execution_count": 48,
   "id": "599f99cc",
   "metadata": {
    "ExecuteTime": {
     "end_time": "2022-02-03T00:45:51.817559Z",
     "start_time": "2022-02-03T00:45:51.782993Z"
    }
   },
   "outputs": [],
   "source": [
    "import geopandas as gpd\n",
    "from src.data import BridgeDataset\n",
    "from src.data import METADATA, TRAIN_DATA, get_dataloaders, DATA_ORDER, map_indices_to_modalities"
   ]
  },
  {
   "cell_type": "code",
   "execution_count": 49,
   "id": "cfed5a79",
   "metadata": {
    "ExecuteTime": {
     "end_time": "2022-02-03T00:45:53.524646Z",
     "start_time": "2022-02-03T00:45:53.481127Z"
    }
   },
   "outputs": [],
   "source": [
    "rwanda_mask = gpd.read_file(\"../data/country_masks/rwanda.shp\")\n",
    "rwanda_polygon = rwanda_mask.geometry[0]\n",
    "rwanda_representative_point = rwanda_polygon.representative_point()"
   ]
  },
  {
   "cell_type": "code",
   "execution_count": 53,
   "id": "fe5a3e2c",
   "metadata": {
    "ExecuteTime": {
     "end_time": "2022-02-03T00:48:15.094312Z",
     "start_time": "2022-02-03T00:48:15.059894Z"
    }
   },
   "outputs": [],
   "source": [
    "train_data, metadata, stats_fp = get_file_paths_from_notebook_directory()"
   ]
  },
  {
   "cell_type": "code",
   "execution_count": 54,
   "id": "45eb0c89",
   "metadata": {
    "ExecuteTime": {
     "end_time": "2022-02-03T00:48:20.544222Z",
     "start_time": "2022-02-03T00:48:20.228519Z"
    }
   },
   "outputs": [],
   "source": [
    "data = BridgeDataset(data=train_data, raster_data=metadata, stats_fp=stats_fp)"
   ]
  },
  {
   "cell_type": "code",
   "execution_count": 62,
   "id": "a0512ed2",
   "metadata": {
    "ExecuteTime": {
     "end_time": "2022-02-03T00:53:09.608453Z",
     "start_time": "2022-02-03T00:53:09.560572Z"
    }
   },
   "outputs": [],
   "source": [
    "def inference_rwanda(model, lon, lat):\n",
    "    point = Point(lon, lat)\n",
    "    if not rwanda_polygon.contains(point):\n",
    "        raise Exception(f\"Point lat: {lat} lon: {lon} not in Rwanda boundaries.\")\n",
    "    input_channels, label = data.get_item_from_lon_lat(lon, lat, \"Rwanda\")\n",
    "    prediction, prediction_probabilities = get_prediction_information(model, input_channels)\n",
    "    print(f\"Prediction: {prediction}\")\n",
    "    print(f\"NO prediction probability %.2f\"%prediction_probabilities[0])\n",
    "    print(f\"YES prediction probability %.2f\"%prediction_probabilities[1])\n",
    "    plot_sample(input_channels[0], modalities)"
   ]
  },
  {
   "cell_type": "code",
   "execution_count": 63,
   "id": "c7e009b2",
   "metadata": {
    "ExecuteTime": {
     "end_time": "2022-02-03T00:53:10.545098Z",
     "start_time": "2022-02-03T00:53:09.773389Z"
    }
   },
   "outputs": [
    {
     "name": "stdout",
     "output_type": "stream",
     "text": [
      "Prediction: 0\n",
      "NO prediction probability 0.67\n",
      "YES prediction probability 0.33\n"
     ]
    },
    {
     "data": {
      "image/png": "[encoded data removed]",
      "text/plain": [
       "<Figure size 864x360 with 3 Axes>"
      ]
     },
     "metadata": {
      "needs_background": "light"
     },
     "output_type": "display_data"
    },
    {
     "data": {
      "image/png": "[encoded data removed]",
      "text/plain": [
       "<Figure size 864x360 with 3 Axes>"
      ]
     },
     "metadata": {
      "needs_background": "light"
     },
     "output_type": "display_data"
    },
    {
     "data": {
      "image/png": "[encoded data removed]",
      "text/plain": [
       "<Figure size 864x360 with 3 Axes>"
      ]
     },
     "metadata": {
      "needs_background": "light"
     },
     "output_type": "display_data"
    }
   ],
   "source": [
    "inference_rwanda(model, rwanda_representative_point.x, rwanda_representative_point.y)"
   ]
  },
  {
   "cell_type": "code",
   "execution_count": 66,
   "id": "0fa66c5e",
   "metadata": {
    "ExecuteTime": {
     "end_time": "2022-02-03T00:53:39.216792Z",
     "start_time": "2022-02-03T00:53:38.483881Z"
    }
   },
   "outputs": [
    {
     "name": "stdout",
     "output_type": "stream",
     "text": [
      "Prediction: 0\n",
      "NO prediction probability 0.74\n",
      "YES prediction probability 0.26\n"
     ]
    },
    {
     "data": {
      "image/png": "[encoded data removed]",
      "text/plain": [
       "<Figure size 864x360 with 3 Axes>"
      ]
     },
     "metadata": {
      "needs_background": "light"
     },
     "output_type": "display_data"
    },
    {
     "data": {
      "image/png": "[encoded data removed]",
      "text/plain": [
       "<Figure size 864x360 with 3 Axes>"
      ]
     },
     "metadata": {
      "needs_background": "light"
     },
     "output_type": "display_data"
    },
    {
     "data": {
      "image/png": "[encoded data removed]",
      "text/plain": [
       "<Figure size 864x360 with 3 Axes>"
      ]
     },
     "metadata": {
      "needs_background": "light"
     },
     "output_type": "display_data"
    }
   ],
   "source": [
    "inference_rwanda(model, rwanda_representative_point.x - 0.15, rwanda_representative_point.y - .15)"
   ]
  },
  {
   "cell_type": "code",
   "execution_count": null,
   "id": "2ada96ea",
   "metadata": {},
   "outputs": [],
   "source": []
  }
 ],
 "metadata": {
  "kernelspec": {
   "display_name": "Python 3 (ipykernel)",
   "language": "python",
   "name": "python3"
  },
  "language_info": {
   "codemirror_mode": {
    "name": "ipython",
    "version": 3
   },
   "file_extension": ".py",
   "mimetype": "text/x-python",
   "name": "python",
   "nbconvert_exporter": "python",
   "pygments_lexer": "ipython3",
   "version": "3.7.11"
  }
 },
 "nbformat": 4,
 "nbformat_minor": 5
}
