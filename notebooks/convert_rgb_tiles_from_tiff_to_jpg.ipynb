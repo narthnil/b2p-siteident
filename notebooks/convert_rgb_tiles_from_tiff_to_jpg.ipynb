{
 "cells": [
  {
   "cell_type": "code",
   "execution_count": 22,
   "id": "0ad6f250",
   "metadata": {},
   "outputs": [],
   "source": [
    "import glob\n",
    "from os import path, makedirs\n",
    "from PIL import Image\n",
    "import rasterio\n",
    "import numpy as np\n",
    "from tqdm.notebook import tqdm\n",
    "import json"
   ]
  },
  {
   "cell_type": "code",
   "execution_count": 23,
   "id": "cb72a231",
   "metadata": {},
   "outputs": [],
   "source": [
    "root_path = \"/data/b2p-siteident\"\n",
    "rgb_tile_path = \"data/rgb_tiles/\""
   ]
  },
  {
   "cell_type": "code",
   "execution_count": 24,
   "id": "6b2c495d",
   "metadata": {},
   "outputs": [
    {
     "name": "stdout",
     "output_type": "stream",
     "text": [
      "/data/b2p-siteident/data/rgb_tiles/v2_b2p_rgb_large_1150_600\n",
      "/data/b2p-siteident/data/rgb_tiles/v1_b2p_rgb_large_590_320\n",
      "/data/b2p-siteident/data/rgb_tiles/v1_b2p_rgb_large_1150_600\n",
      "/data/b2p-siteident/data/rgb_tiles/v2_b2p_rgb_large_2350_1200\n",
      "/data/b2p-siteident/data/rgb_tiles/v1_b2p_rgb_large_2350_1200\n",
      "/data/b2p-siteident/data/rgb_tiles/v2_b2p_rgb_large_590_320\n"
     ]
    }
   ],
   "source": [
    "for fp in glob.glob(path.join(root_path, rgb_tile_path, \"*\")):\n",
    "    if fp.endswith(\"_jpg\"):\n",
    "        continue\n",
    "    print(fp)\n",
    "    if not path.isdir(fp + \"_jpg\"):\n",
    "        makedirs(fp + \"_jpg\")"
   ]
  },
  {
   "cell_type": "code",
   "execution_count": 25,
   "id": "599269ab",
   "metadata": {},
   "outputs": [
    {
     "data": {
      "application/vnd.jupyter.widget-view+json": {
       "model_id": "6a01a74d37684685adc20539d19b3d06",
       "version_major": 2,
       "version_minor": 0
      },
      "text/plain": [
       "v2_b2p_rgb_large_1150_600:   0%|          | 0/3172 [00:00<?, ?it/s]"
      ]
     },
     "metadata": {},
     "output_type": "display_data"
    },
    {
     "data": {
      "application/vnd.jupyter.widget-view+json": {
       "model_id": "a8eb7e398d74481bbd207484dd1f4db0",
       "version_major": 2,
       "version_minor": 0
      },
      "text/plain": [
       "v1_b2p_rgb_large_590_320:   0%|          | 0/3354 [00:00<?, ?it/s]"
      ]
     },
     "metadata": {},
     "output_type": "display_data"
    },
    {
     "data": {
      "application/vnd.jupyter.widget-view+json": {
       "model_id": "8854f1837be14bd484db1547cce85302",
       "version_major": 2,
       "version_minor": 0
      },
      "text/plain": [
       "v1_b2p_rgb_large_1150_600:   0%|          | 0/3354 [00:00<?, ?it/s]"
      ]
     },
     "metadata": {},
     "output_type": "display_data"
    },
    {
     "data": {
      "application/vnd.jupyter.widget-view+json": {
       "model_id": "fe843f2eb0124d01932109c689882671",
       "version_major": 2,
       "version_minor": 0
      },
      "text/plain": [
       "v2_b2p_rgb_large_2350_1200:   0%|          | 0/3396 [00:00<?, ?it/s]"
      ]
     },
     "metadata": {},
     "output_type": "display_data"
    },
    {
     "data": {
      "application/vnd.jupyter.widget-view+json": {
       "model_id": "89d3bae1fd524798b39695d91f2ca316",
       "version_major": 2,
       "version_minor": 0
      },
      "text/plain": [
       "v1_b2p_rgb_large_2350_1200:   0%|          | 0/3354 [00:00<?, ?it/s]"
      ]
     },
     "metadata": {},
     "output_type": "display_data"
    },
    {
     "data": {
      "application/vnd.jupyter.widget-view+json": {
       "model_id": "8e648e52395e44ceb5588bf3364883c3",
       "version_major": 2,
       "version_minor": 0
      },
      "text/plain": [
       "v2_b2p_rgb_large_590_320:   0%|          | 0/3396 [00:00<?, ?it/s]"
      ]
     },
     "metadata": {},
     "output_type": "display_data"
    }
   ],
   "source": [
    "for fp in glob.glob(path.join(root_path, rgb_tile_path, \"*\")):\n",
    "    if fp.endswith(\"_jpg\"):\n",
    "        continue\n",
    "    out_fp = fp + \"_jpg\"\n",
    "    for tif_fp in tqdm(glob.glob(path.join(fp, \"*.tif\")), desc=fp.split(\"/\")[-1]):\n",
    "        out_file = tif_fp.replace(fp, out_fp).replace(\".tif\", \".jpg\")\n",
    "        if not path.isfile(out_file):\n",
    "            with rasterio.open(tif_fp) as src:\n",
    "                arr = np.concatenate((\n",
    "                    np.expand_dims(src.read(1), -1),\n",
    "                    np.expand_dims(src.read(2), -1),\n",
    "                    np.expand_dims(src.read(3), -1),\n",
    "                ), -1)\n",
    "                img = Image.fromarray(arr)\n",
    "                img.save(out_file)"
   ]
  },
  {
   "cell_type": "code",
   "execution_count": 26,
   "id": "d68fe0a6",
   "metadata": {},
   "outputs": [
    {
     "name": "stdout",
     "output_type": "stream",
     "text": [
      "v1_b2p_rgb_large_590_320_jpg\n",
      "v1_b2p_rgb_large_1150_600_jpg\n",
      "v2_b2p_rgb_large_2350_1200_jpg\n",
      "v2_b2p_rgb_large_590_320_jpg\n",
      "v1_b2p_rgb_large_2350_1200_jpg\n",
      "v2_b2p_rgb_large_1150_600_jpg\n"
     ]
    }
   ],
   "source": [
    "rgb_tiles_paths = \"../data/rgb_tiles/*_jpg\"\n",
    "\n",
    "stats = {}\n",
    "\n",
    "for fp in glob.glob(rgb_tiles_paths):\n",
    "    name = fp.split(\"/\")[-1]\n",
    "    print(name)\n",
    "    channel_sum = np.zeros(3)\n",
    "    count = 0\n",
    "    for img_fp in glob.glob(path.join(fp, \"*.jpg\")):\n",
    "        if \"-te-\" in img_fp or \"test\" in img_fp:\n",
    "            continue\n",
    "        img = plt.imread(img_fp)\n",
    "        channel_sum += (img / 255).sum(0).sum(0)\n",
    "        count += img.shape[0] * img.shape[1]\n",
    "    mean = (channel_sum / count).tolist()\n",
    "\n",
    "    channel_sq_sum = np.zeros(3)\n",
    "    for img_fp in glob.glob(path.join(fp, \"*.jpg\")):\n",
    "        img = plt.imread(img_fp)\n",
    "        channel_sq_sum += np.power(img / 255 - mean, 2).sum(0).sum(0)\n",
    "        count += img.shape[0] * img.shape[1]\n",
    "    std = (channel_sq_sum / count).tolist()\n",
    "    stats[name] = {\n",
    "        \"mean\": mean,\n",
    "        \"std\": std\n",
    "    }"
   ]
  },
  {
   "cell_type": "code",
   "execution_count": 27,
   "id": "14961218",
   "metadata": {},
   "outputs": [],
   "source": [
    "with open(\"../data/rgb_tiles/stats.json\", \"w+\") as f:\n",
    "    json.dump(stats, f)"
   ]
  },
  {
   "cell_type": "code",
   "execution_count": null,
   "id": "09c1a962",
   "metadata": {},
   "outputs": [],
   "source": []
  }
 ],
 "metadata": {
  "kernelspec": {
   "display_name": "Python 3 (ipykernel)",
   "language": "python",
   "name": "python3"
  },
  "language_info": {
   "codemirror_mode": {
    "name": "ipython",
    "version": 3
   },
   "file_extension": ".py",
   "mimetype": "text/x-python",
   "name": "python",
   "nbconvert_exporter": "python",
   "pygments_lexer": "ipython3",
   "version": "3.7.12"
  }
 },
 "nbformat": 4,
 "nbformat_minor": 5
}
