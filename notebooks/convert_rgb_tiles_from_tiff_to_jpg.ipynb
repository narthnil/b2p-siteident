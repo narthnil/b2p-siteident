{
 "cells": [
  {
   "cell_type": "code",
   "execution_count": 14,
   "id": "0ad6f250",
   "metadata": {},
   "outputs": [],
   "source": [
    "import glob\n",
    "from os import path, makedirs\n",
    "from PIL import Image\n",
    "import rasterio\n",
    "import numpy as np\n",
    "from tqdm.notebook import tqdm"
   ]
  },
  {
   "cell_type": "code",
   "execution_count": 5,
   "id": "cb72a231",
   "metadata": {},
   "outputs": [],
   "source": [
    "root_path = \"/mnt/nvm/projects/b2p-siteident\"\n",
    "rgb_tile_path = \"data/rgb_tiles/\""
   ]
  },
  {
   "cell_type": "code",
   "execution_count": 12,
   "id": "6b2c495d",
   "metadata": {},
   "outputs": [
    {
     "name": "stdout",
     "output_type": "stream",
     "text": [
      "/mnt/nvm/projects/b2p-siteident/data/rgb_tiles/v1_b2p_rgb_large_590_320\n",
      "/mnt/nvm/projects/b2p-siteident/data/rgb_tiles/v1_b2p_rgb_large_1150_600\n",
      "/mnt/nvm/projects/b2p-siteident/data/rgb_tiles/v2_b2p_rgb_large_590_320\n",
      "/mnt/nvm/projects/b2p-siteident/data/rgb_tiles/v1_b2p_rgb_large_2350_1200\n",
      "/mnt/nvm/projects/b2p-siteident/data/rgb_tiles/v2_b2p_rgb_large_1150_600\n",
      "/mnt/nvm/projects/b2p-siteident/data/rgb_tiles/v2_b2p_rgb_large_2350_1200\n"
     ]
    }
   ],
   "source": [
    "for fp in glob.glob(path.join(root_path, rgb_tile_path, \"*\")):\n",
    "    if fp.endswith(\"_jpg\"):\n",
    "        continue\n",
    "    print(fp)\n",
    "    if not path.isdir(fp + \"_jpg\"):\n",
    "        makedirs(fp + \"_jpg\")"
   ]
  },
  {
   "cell_type": "code",
   "execution_count": 16,
   "id": "599269ab",
   "metadata": {},
   "outputs": [
    {
     "data": {
      "application/vnd.jupyter.widget-view+json": {
       "model_id": "04cbc438afb24d61a2b9526a7c87b81c",
       "version_major": 2,
       "version_minor": 0
      },
      "text/plain": [
       "v1_b2p_rgb_large_590_320:   0%|          | 0/3354 [00:00<?, ?it/s]"
      ]
     },
     "metadata": {},
     "output_type": "display_data"
    },
    {
     "data": {
      "application/vnd.jupyter.widget-view+json": {
       "model_id": "e69f264fcc834148977f55c072b04df8",
       "version_major": 2,
       "version_minor": 0
      },
      "text/plain": [
       "v1_b2p_rgb_large_1150_600:   0%|          | 0/3354 [00:00<?, ?it/s]"
      ]
     },
     "metadata": {},
     "output_type": "display_data"
    },
    {
     "data": {
      "application/vnd.jupyter.widget-view+json": {
       "model_id": "b907e535f659496188436514ddf2d07e",
       "version_major": 2,
       "version_minor": 0
      },
      "text/plain": [
       "v2_b2p_rgb_large_590_320:   0%|          | 0/3354 [00:00<?, ?it/s]"
      ]
     },
     "metadata": {},
     "output_type": "display_data"
    },
    {
     "data": {
      "application/vnd.jupyter.widget-view+json": {
       "model_id": "71f30ea948d4448cb616854b992cbded",
       "version_major": 2,
       "version_minor": 0
      },
      "text/plain": [
       "v1_b2p_rgb_large_2350_1200:   0%|          | 0/3354 [00:00<?, ?it/s]"
      ]
     },
     "metadata": {},
     "output_type": "display_data"
    },
    {
     "data": {
      "application/vnd.jupyter.widget-view+json": {
       "model_id": "5499a9725bd24205b30868bd7e6cfdab",
       "version_major": 2,
       "version_minor": 0
      },
      "text/plain": [
       "v2_b2p_rgb_large_1150_600:   0%|          | 0/2874 [00:00<?, ?it/s]"
      ]
     },
     "metadata": {},
     "output_type": "display_data"
    },
    {
     "data": {
      "application/vnd.jupyter.widget-view+json": {
       "model_id": "d92f178f8a6548e08dddd01a2eb40080",
       "version_major": 2,
       "version_minor": 0
      },
      "text/plain": [
       "v2_b2p_rgb_large_2350_1200:   0%|          | 0/3354 [00:00<?, ?it/s]"
      ]
     },
     "metadata": {},
     "output_type": "display_data"
    }
   ],
   "source": [
    "for fp in glob.glob(path.join(root_path, rgb_tile_path, \"*\")):\n",
    "    if fp.endswith(\"_jpg\"):\n",
    "        continue\n",
    "    out_fp = fp + \"_jpg\"\n",
    "    for tif_fp in tqdm(glob.glob(path.join(fp, \"*.tif\")), desc=fp.split(\"/\")[-1]):\n",
    "        out_file = tif_fp.replace(fp, out_fp).replace(\".tif\", \".jpg\")\n",
    "        if not path.isfile(out_file):\n",
    "            with rasterio.open(tif_fp) as src:\n",
    "                arr = np.concatenate((\n",
    "                    np.expand_dims(src.read(1), -1),\n",
    "                    np.expand_dims(src.read(2), -1),\n",
    "                    np.expand_dims(src.read(3), -1),\n",
    "                ), -1)\n",
    "                img = Image.fromarray(arr)\n",
    "                img.save(out_file)"
   ]
  },
  {
   "cell_type": "code",
   "execution_count": null,
   "id": "238497bd",
   "metadata": {},
   "outputs": [],
   "source": []
  }
 ],
 "metadata": {
  "kernelspec": {
   "display_name": "Python 3 (ipykernel)",
   "language": "python",
   "name": "python3"
  },
  "language_info": {
   "codemirror_mode": {
    "name": "ipython",
    "version": 3
   },
   "file_extension": ".py",
   "mimetype": "text/x-python",
   "name": "python",
   "nbconvert_exporter": "python",
   "pygments_lexer": "ipython3",
   "version": "3.7.11"
  }
 },
 "nbformat": 4,
 "nbformat_minor": 5
}
