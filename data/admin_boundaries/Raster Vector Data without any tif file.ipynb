{
 "cells": [
  {
   "cell_type": "code",
   "execution_count": 1,
   "id": "5d4c54ad",
   "metadata": {},
   "outputs": [],
   "source": [
    "import geopandas as gpd\n",
    "import gdal\n",
    "from osgeo import ogr\n",
    "\n",
    "from shapely.geometry import Polygon, LineString, MultiLineString\n",
    "%matplotlib inline"
   ]
  },
  {
   "cell_type": "code",
   "execution_count": 2,
   "id": "c4fb0ca5",
   "metadata": {},
   "outputs": [],
   "source": [
    "def coverToLine(shpapeFileInput):\n",
    "    adminBoundary = gpd.read_file(shpapeFileInput)\n",
    "    for i, name in enumerate(adminBoundary.geom_type):\n",
    "        if name == 'Polygon':\n",
    "            adminBoundary['geometry'][i] = LineString((adminBoundary['geometry'][i].exterior.coords))\n",
    "        if name == 'MultiPolygon':\n",
    "            polylist = []\n",
    "            for singlepoly in adminBoundary['geometry'][i]:\n",
    "                polylist.append(singlepoly.exterior.coords)\n",
    "            adminBoundary['geometry'][i] = MultiLineString(polylist)\n",
    "                \n",
    "    #adminBoundary['geometry'] = adminBoundary['geometry'].buffer(2.0)\n",
    "    adminBoundary.to_file(\"temp.shp\")\n"
   ]
  },
  {
   "cell_type": "code",
   "execution_count": 3,
   "id": "f94273a8",
   "metadata": {},
   "outputs": [],
   "source": [
    "def convertTo4326(shpapeFileInput):\n",
    "    adminBoundary = gpd.read_file(shpapeFileInput)\n",
    "    adminBoundary.to_crs(epsg = 4326, inplace= True)\n",
    "    adminBoundary.to_file(\"temp.shp\")    "
   ]
  },
  {
   "cell_type": "code",
   "execution_count": 4,
   "id": "f62f91af",
   "metadata": {},
   "outputs": [],
   "source": [
    "def pts2raster_without_tiff_file_input(shpapeFileInput,rasterFileOut,cellSize,field_name=False):\n",
    "    \n",
    "    # Define pixel_size of new raster\n",
    "    #pixel_size determines the size of the new raster.\n",
    "    #pixel_size is proportional to size of shapefile.\n",
    "    pixel_size = cellSize\n",
    "    \n",
    "    #define NoData value of new raster\n",
    "    NoData_value = -9999\n",
    "    \n",
    "    # input shape/OGR filem => shpapeFileInput\n",
    "    \n",
    "    # name of the raster Tiff that will be created =>  rasterFileOut\n",
    " \n",
    "    #admin boundary shape file consist polygon/multipolygon geometry\n",
    "    #if we rasterizes this shape file as it is we will get black tiff file\n",
    "    #so to avoid this we need to convert polygon/multipolygon geometry to line geometry\n",
    "    coverToLine(shpapeFileInput)\n",
    "    \n",
    "    #convert to EPSG-4326\n",
    "    convertTo4326(\"temp.shp\")\n",
    "    # Open the data source and read in the extent\n",
    "    source_ds = ogr.Open(\"temp.shp\")\n",
    "    \n",
    "    #getting layer information of shapefile.\n",
    "    source_layer = source_ds.GetLayer()\n",
    "    \n",
    "    #get extent values to set size of output raster.\n",
    "    x_min, x_max, y_min, y_max = source_layer.GetExtent()\n",
    "    print(int((x_max - x_min)))\n",
    "    print(int((y_max - y_min)))\n",
    "    \n",
    "    # Create the destination data source\n",
    "    \n",
    "    # Calculate size/resolution of the raster.\n",
    "    x_res = int((x_max - x_min) / pixel_size)\n",
    "    y_res = int((y_max - y_min) / pixel_size)\n",
    "    #x_res = y_res = 0.000277\n",
    "    print(x_res)\n",
    "    print(y_res)\n",
    "    \n",
    "    #get GeoTiff driver by \n",
    "    drv_tiff = gdal.GetDriverByName('GTiff')\n",
    "\n",
    "    #passing the filename, x and y direction resolution, no. of bands.\n",
    "    target_ds = drv_tiff.Create(rasterFileOut, x_res, y_res, 1, gdal.GDT_Int16 )\n",
    "\n",
    "    #transforms between pixel raster space to projection coordinate space\n",
    "    target_ds.SetGeoTransform((x_min, pixel_size, 0, y_max, 0, -pixel_size))\n",
    "    \n",
    "    #get required raster band.\n",
    "    band = target_ds.GetRasterBand(1)\n",
    "    \n",
    "    #assign no data value to empty cells.\n",
    "    band.SetNoDataValue(NoData_value)\n",
    "    \n",
    "    #main conversion method\n",
    "    if field_name:\n",
    "        gdal.RasterizeLayer(target_ds,[1], source_layer,options=[\"ATTRIBUTE={0}\".format(field_name)])\n",
    "    else:\n",
    "        gdal.RasterizeLayer(target_ds,[1], source_layer,burn_values=[-1])"
   ]
  },
  {
   "cell_type": "code",
   "execution_count": 5,
   "id": "9407de0f",
   "metadata": {},
   "outputs": [
    {
     "name": "stdout",
     "output_type": "stream",
     "text": [
      "5\n",
      "5\n",
      "19598\n",
      "20625\n"
     ]
    }
   ],
   "source": [
    "pts2raster_without_tiff_file_input(\"Uganda_Parish.shp\",\"Uganda_Parish.tif\", 0.000277) #0.00027"
   ]
  },
  {
   "cell_type": "code",
   "execution_count": 6,
   "id": "76820fd4",
   "metadata": {},
   "outputs": [
    {
     "name": "stdout",
     "output_type": "stream",
     "text": [
      "2\n",
      "1\n",
      "7355\n",
      "6471\n"
     ]
    }
   ],
   "source": [
    "pts2raster_without_tiff_file_input(\"Rwanda_Village_Boundaries.shp\",\"Rwanda_Village_Boundaries.tif\", 0.000277)"
   ]
  },
  {
   "cell_type": "code",
   "execution_count": 7,
   "id": "80abaa3e",
   "metadata": {},
   "outputs": [
    {
     "name": "stdout",
     "output_type": "stream",
     "text": [
      "10\n",
      "11\n",
      "36124\n",
      "41084\n"
     ]
    }
   ],
   "source": [
    "pts2raster_without_tiff_file_input(\"Ethiopia_AdminBoundaries.shp\",\"Ethiopia_AdminBoundaries.tif\", 0.000277)"
   ]
  },
  {
   "cell_type": "code",
   "execution_count": null,
   "id": "632c341e",
   "metadata": {},
   "outputs": [],
   "source": []
  }
 ],
 "metadata": {
  "kernelspec": {
   "display_name": "Python 3 (ipykernel)",
   "language": "python",
   "name": "python3"
  },
  "language_info": {
   "codemirror_mode": {
    "name": "ipython",
    "version": 3
   },
   "file_extension": ".py",
   "mimetype": "text/x-python",
   "name": "python",
   "nbconvert_exporter": "python",
   "pygments_lexer": "ipython3",
   "version": "3.9.7"
  }
 },
 "nbformat": 4,
 "nbformat_minor": 5
}
